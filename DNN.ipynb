{
  "nbformat": 4,
  "nbformat_minor": 0,
  "metadata": {
    "colab": {
      "provenance": [],
      "collapsed_sections": []
    },
    "kernelspec": {
      "name": "python3",
      "display_name": "Python 3"
    },
    "language_info": {
      "name": "python"
    }
  },
  "cells": [
    {
      "cell_type": "code",
      "execution_count": 2,
      "metadata": {
        "id": "SarzUZ3Vpnvk"
      },
      "outputs": [],
      "source": [
        "import tensorflow as tf\n",
        "import numpy as np\n",
        "import random\n",
        "import matplotlib.pyplot as plt"
      ]
    },
    {
      "cell_type": "code",
      "source": [
        "ALPHA=0.01\n",
        "EPOCH=1000"
      ],
      "metadata": {
        "id": "lPcJC_J1yy6Q"
      },
      "execution_count": 2,
      "outputs": []
    },
    {
      "cell_type": "code",
      "source": [
        "class Perceptron_Layer:\n",
        "  def __init__(self,init_w,init_b):\n",
        "      self.w=tf.Variable(init_w,dtype='float64')\n",
        "      self.b=tf.Variable(init_b,dtype='float64')\n",
        "  \n",
        "  def compute(self,x):\n",
        "    result= tf.sigmoid(tf.matmul(x,self.w)+self.b) #n*2, 2*2\n",
        "    return result"
      ],
      "metadata": {
        "id": "hz91H90TqgiK"
      },
      "execution_count": 3,
      "outputs": []
    },
    {
      "cell_type": "code",
      "source": [
        "X=np.array([[1,3],[-2,-2]]).astype('float64') #n*2\n",
        "Y=np.array([[0,1],[1,0]]).astype('float64')"
      ],
      "metadata": {
        "id": "GrzB0IRGqtVh"
      },
      "execution_count": 4,
      "outputs": []
    },
    {
      "cell_type": "code",
      "source": [
        "w1=np.array([[1,2],[-2,0]]).astype('float64')\n",
        "b1=np.array([3,-1]).astype('float64')\n",
        "\n",
        "w2=np.array([[1,1],[0,-2]]).astype('float64')\n",
        "b2=np.array([-2,3]).astype('float64')"
      ],
      "metadata": {
        "id": "076fKoAPq-4j"
      },
      "execution_count": 5,
      "outputs": []
    },
    {
      "cell_type": "code",
      "source": [
        "p1=Perceptron_Layer(w1,b1)\n",
        "p2=Perceptron_Layer(w2,b2)"
      ],
      "metadata": {
        "id": "5BM9BWGrsPAj"
      },
      "execution_count": 6,
      "outputs": []
    },
    {
      "cell_type": "code",
      "source": [
        "V=p1.compute(X)\n",
        "print(V)\n",
        "output=p2.compute(V)\n",
        "print(output)"
      ],
      "metadata": {
        "colab": {
          "base_uri": "https://localhost:8080/"
        },
        "id": "5eTuWL7lsZmB",
        "outputId": "85284be3-fbee-4333-c0de-43bb8f664c06"
      },
      "execution_count": 7,
      "outputs": [
        {
          "output_type": "stream",
          "name": "stdout",
          "text": [
            "tf.Tensor(\n",
            "[[0.11920292 0.73105858]\n",
            " [0.99330715 0.00669285]], shape=(2, 2), dtype=float64)\n",
            "tf.Tensor(\n",
            "[[0.13229735 0.83984641]\n",
            " [0.26762756 0.98165569]], shape=(2, 2), dtype=float64)\n"
          ]
        }
      ]
    },
    {
      "cell_type": "code",
      "source": [
        "def p_cost(output,target):\n",
        "  diff=output-target\n",
        "  diff=tf.reduce_sum(diff*diff)\n",
        "  return diff/len(output)"
      ],
      "metadata": {
        "id": "Fsr0daUAsn-Z"
      },
      "execution_count": 8,
      "outputs": []
    },
    {
      "cell_type": "code",
      "source": [
        "print(p_cost(output,Y))"
      ],
      "metadata": {
        "colab": {
          "base_uri": "https://localhost:8080/"
        },
        "id": "9OhkmlUOsxF5",
        "outputId": "55745447-04ee-4dbf-9f1c-d0d42e6a9744"
      },
      "execution_count": 9,
      "outputs": [
        {
          "output_type": "stream",
          "name": "stdout",
          "text": [
            "tf.Tensor(0.7715845238082222, shape=(), dtype=float64)\n"
          ]
        }
      ]
    },
    {
      "cell_type": "markdown",
      "source": [
        "Cost function: J=∑(d-y)^2\n",
        "\n",
        "Y=f(U)\n",
        "\n",
        "U=HW2+B2 (second layer)\n",
        "\n",
        "H=g(z)\n",
        "\n",
        "Z=XW1+B1(first layer)\n",
        "\n",
        "\n",
        "---\n",
        "\n",
        "Using the knowledge above, \n",
        "\n",
        "∇uJ=diag(f'(U))∇yJ=f'(U)·∇yJ=f'(U)·(D-Y)\n",
        "\n",
        "∇w2J=(∂u/∂w2)∇ uJ=H'∇uJ, ∇b2J=(∂u/∂b2)∇uJ=∇uJ\n",
        "\n",
        "∇hJ=(∂u/∂h)∇uJ=∇uJW2'\n",
        "\n",
        "∇zJ=(∂h/∂z)∇hJ=diag(g'(z))∇hJ\n",
        "\n",
        "∇w1J=(∂z/∂w1)∇zJ=X'∇zJ, ∇wbJ=(∂z/∂b1)∇zJ=∇zJ"
      ],
      "metadata": {
        "id": "KrUhjcgEKcy9"
      }
    },
    {
      "cell_type": "code",
      "source": [
        "def train(layer1,layer2,input,target):\n",
        "  h=layer1.compute(input) #n*2\n",
        "  y=layer2.compute(h) #n*2\n",
        "\n",
        "  f_prime=(1-y)*y #n*2\n",
        "  delta_u=(y-target)*f_prime  #n*2\n",
        "\n",
        "  delta_w2=tf.matmul(tf.transpose(h),delta_u) #2*n,n*2\n",
        "  delta_b2=tf.reshape(tf.matmul(np.ones([1,delta_u.shape[0]]),delta_u),[2]) #1*n,n*2\n",
        "\n",
        "  g_prime=(1-h)*h\n",
        "  delta_h=tf.matmul(delta_u,tf.transpose(layer2.w)) #n*2, 2*2\n",
        "  delta_z=delta_h*g_prime #n*2\n",
        "  delta_w1=tf.matmul(tf.transpose(input),delta_z) #2*n,n*2\n",
        "  delta_b1=tf.reshape(tf.matmul(np.ones([1,delta_z.shape[0]]),delta_z),[2]) #1*n, n*2\n",
        "\n",
        "  layer1.w.assign_sub(delta_w1*ALPHA)\n",
        "  layer1.b.assign_sub(delta_b1*ALPHA)\n",
        "  layer2.w.assign_sub(delta_w2*ALPHA)\n",
        "  layer2.b.assign_sub(delta_b2*ALPHA)\n",
        "\n",
        "  return layer1,layer2\n"
      ],
      "metadata": {
        "id": "pFsRUS5GtEGq"
      },
      "execution_count": 10,
      "outputs": []
    },
    {
      "cell_type": "code",
      "source": [
        "p1=Perceptron_Layer(w1,b1)\n",
        "p2=Perceptron_Layer(w2,b2)\n",
        "p1,p2=train(p1,p2,X,Y)\n",
        "output=p2.compute(p1.compute(X))\n",
        "print(\"cost: \",p_cost(output,Y))"
      ],
      "metadata": {
        "colab": {
          "base_uri": "https://localhost:8080/"
        },
        "id": "aCmx2zrk5PyP",
        "outputId": "6fae525a-9b05-4ee1-d95c-8e350aa3d54a"
      },
      "execution_count": 11,
      "outputs": [
        {
          "output_type": "stream",
          "name": "stdout",
          "text": [
            "cost:  tf.Tensor(0.7712074279235315, shape=(), dtype=float64)\n"
          ]
        }
      ]
    },
    {
      "cell_type": "code",
      "source": [
        "p1=Perceptron_Layer(w1,b1)\n",
        "p2=Perceptron_Layer(w2,b2)\n",
        "loss=[]\n",
        "for i in range(EPOCH):\n",
        "  p1,p2=train(p1,p2,X,Y)\n",
        "  output=p2.compute(p1.compute(X))\n",
        "  loss.append(p_cost(output,Y))\n",
        "  if i%100==0:\n",
        "    print(\"cost: \",p_cost(output,Y))"
      ],
      "metadata": {
        "colab": {
          "base_uri": "https://localhost:8080/"
        },
        "id": "XVxqUUB455l3",
        "outputId": "0a5bf6a1-dfec-4ac7-af92-a7f12c91aed8"
      },
      "execution_count": 12,
      "outputs": [
        {
          "output_type": "stream",
          "name": "stdout",
          "text": [
            "cost:  tf.Tensor(0.7712074279235315, shape=(), dtype=float64)\n",
            "cost:  tf.Tensor(0.7325363834509875, shape=(), dtype=float64)\n",
            "cost:  tf.Tensor(0.6944867481111542, shape=(), dtype=float64)\n",
            "cost:  tf.Tensor(0.6606449095279749, shape=(), dtype=float64)\n",
            "cost:  tf.Tensor(0.6330194087679388, shape=(), dtype=float64)\n",
            "cost:  tf.Tensor(0.611658180502722, shape=(), dtype=float64)\n",
            "cost:  tf.Tensor(0.5954743573775207, shape=(), dtype=float64)\n",
            "cost:  tf.Tensor(0.5831430512248147, shape=(), dtype=float64)\n",
            "cost:  tf.Tensor(0.5735436751262605, shape=(), dtype=float64)\n",
            "cost:  tf.Tensor(0.5658546777076815, shape=(), dtype=float64)\n"
          ]
        }
      ]
    },
    {
      "cell_type": "code",
      "source": [
        "plt.plot([i for i in range(EPOCH)],loss)"
      ],
      "metadata": {
        "colab": {
          "base_uri": "https://localhost:8080/",
          "height": 282
        },
        "id": "hTueSegE6L5-",
        "outputId": "3186b66f-2fb7-4f1a-aea2-fe4ad7c8417c"
      },
      "execution_count": 13,
      "outputs": [
        {
          "output_type": "execute_result",
          "data": {
            "text/plain": [
              "[<matplotlib.lines.Line2D at 0x7f724f2ba110>]"
            ]
          },
          "metadata": {},
          "execution_count": 13
        },
        {
          "output_type": "display_data",
          "data": {
            "text/plain": [
              "<Figure size 432x288 with 1 Axes>"
            ],
            "image/png": "[encoded data removed]"
          },
          "metadata": {
            "needs_background": "light"
          }
        }
      ]
    },
    {
      "cell_type": "code",
      "source": [
        "print(f\"layer1 weight:{p1.w.numpy()}, layer1 bias:{p1.b.numpy()}\")\n",
        "print(f\"layer2 weight:{p2.w.numpy()}, layer2 bias:{p2.b.numpy()}\")"
      ],
      "metadata": {
        "colab": {
          "base_uri": "https://localhost:8080/"
        },
        "id": "g0_O7S1Z7Of2",
        "outputId": "5c65725a-2d14-44f7-efb5-03ed7157b032"
      },
      "execution_count": 14,
      "outputs": [
        {
          "output_type": "stream",
          "name": "stdout",
          "text": [
            "layer1 weight:[[ 0.9469426   1.93125627]\n",
            " [-2.12302005 -0.19611701]], layer1 bias:[ 2.97405672 -1.0611581 ]\n",
            "layer2 weight:[[ 2.06466068  0.82573569]\n",
            " [-0.19742227 -1.89509776]], layer2 bias:[-1.22279351  2.97108419]\n"
          ]
        }
      ]
    },
    {
      "cell_type": "markdown",
      "source": [
        "Now for classificaton"
      ],
      "metadata": {
        "id": "gHO7-rXtVlaO"
      }
    },
    {
      "cell_type": "code",
      "source": [
        "X = np.array([[1.0, 1.0], [0.0, 1.0], [3.0, 4.0], [2.0, 2.0], [2.0, -2.0], [-2.0, -3.0]]).astype('float64')\n",
        "Y = np.array([0, 0, 1, 1, 2, 2]).astype('int')\n",
        "K = np.array([[1, 0, 0],\n",
        "              [1, 0, 0],\n",
        "              [0, 1, 0],\n",
        "              [0, 1, 0],\n",
        "              [0, 0, 1],\n",
        "              [0, 0, 1]]).astype('float64')"
      ],
      "metadata": {
        "id": "n_NHmOcIVn5N"
      },
      "execution_count": 40,
      "outputs": []
    },
    {
      "cell_type": "markdown",
      "source": [
        "Create the network"
      ],
      "metadata": {
        "id": "IvfdZHeJXxos"
      }
    },
    {
      "cell_type": "code",
      "source": [
        "class NN:\n",
        "  def __init__(self,w1,b1,w2,b2):\n",
        "    self.w1=tf.Variable(w1,dtype='float64')\n",
        "    self.b1=tf.Variable(b1,dtype='float64')\n",
        "    self.w2=tf.Variable(w2,dtype='float64')\n",
        "    self.b2=tf.Variable(b2,dtype='float64')\n",
        "\n",
        "  def compute(self,input):\n",
        "    z=tf.matmul(input,self.w1)+self.b1\n",
        "    g_z=tf.sigmoid(z)\n",
        "    u=tf.matmul(g_z,self.w2)+self.b2\n",
        "    f_u=tf.sigmoid(u)\n",
        "    y=tf.argmax(f_u,axis=1)\n",
        "    return z,g_z,u,f_u,y"
      ],
      "metadata": {
        "id": "bLC90nyrVuj8"
      },
      "execution_count": 21,
      "outputs": []
    },
    {
      "cell_type": "code",
      "source": [
        "w1 = np.array([[-0.10, 0.97, 0.18], [-0.70, 0.38, 0.93]]).astype('float64')\n",
        "b1 =np.array([0.0, 0.0, 0.0]).astype('float64')\n",
        "w2 = np.array([[1.01, 0.09, -0.39],\n",
        "          [0.79, -0.45, -0.22],\n",
        "          [0.28, 0.96, -0.07]]).astype('float64')\n",
        "b2 = np.array([0.0, 0.0, 0.0]).astype('float64')"
      ],
      "metadata": {
        "id": "vtrtU0yJXD6U"
      },
      "execution_count": 22,
      "outputs": []
    },
    {
      "cell_type": "markdown",
      "source": [
        "Test"
      ],
      "metadata": {
        "id": "qslTpSMbXwEl"
      }
    },
    {
      "cell_type": "code",
      "source": [
        "net=NN(w1,b1,w2,b2)"
      ],
      "metadata": {
        "id": "jaD3u_dVW_1V"
      },
      "execution_count": 37,
      "outputs": []
    },
    {
      "cell_type": "code",
      "source": [
        "z,g_z,u,f_u,output=net.compute(X)"
      ],
      "metadata": {
        "id": "PEJ7LPn7Xff1"
      },
      "execution_count": 38,
      "outputs": []
    },
    {
      "cell_type": "markdown",
      "source": [
        "define cost"
      ],
      "metadata": {
        "id": "WLarkrMRXz88"
      }
    },
    {
      "cell_type": "code",
      "source": [
        "def error(output,target):\n",
        "  return tf.reduce_sum(tf.cast(tf.not_equal(output,target),tf.int32))\n",
        "\n",
        "def cost(output,target):\n",
        "  return tf.reduce_sum(tf.math.log(output)*target)"
      ],
      "metadata": {
        "id": "YvmNc_eDX2I0"
      },
      "execution_count": 52,
      "outputs": []
    },
    {
      "cell_type": "code",
      "source": [
        "print(f\"error: {error(output,Y)}, loss: {cost(f_u,K)}\")"
      ],
      "metadata": {
        "colab": {
          "base_uri": "https://localhost:8080/"
        },
        "id": "NGgh4u4cYYhl",
        "outputId": "707f839b-d633-4cb0-8b8e-d0e40e57f958"
      },
      "execution_count": 54,
      "outputs": [
        {
          "output_type": "stream",
          "name": "stdout",
          "text": [
            "error: 4, loss: -3.4037562994095407\n"
          ]
        }
      ]
    },
    {
      "cell_type": "markdown",
      "source": [
        "Train"
      ],
      "metadata": {
        "id": "_IALjbw5Z1q0"
      }
    },
    {
      "cell_type": "code",
      "source": [
        "def train(net,input,k,y):\n",
        "  z,g_z,u,f_u,output=net.compute(input)\n",
        "\n",
        "  delta_u=(f_u-k)\n",
        "\n",
        "  delta_w2=tf.matmul(tf.transpose(g_z),delta_u) #2*n,n*2\n",
        "  delta_b2=tf.reduce_sum(delta_u, axis=0)\n",
        "\n",
        "  g_prime=(1-g_z)*g_z\n",
        "  delta_h=tf.matmul(delta_u,tf.transpose(net.w2)) #n*2, 2*2\n",
        "  delta_z=delta_h*g_prime #n*2\n",
        "  delta_w1=tf.matmul(tf.transpose(input),delta_z) #2*n,n*2\n",
        "  delta_b1=tf.reduce_sum(delta_z, axis=0)\n",
        "\n",
        "  net.w1.assign_sub(delta_w1*ALPHA)\n",
        "  net.b1.assign_sub(delta_b1*ALPHA)\n",
        "  net.w2.assign_sub(delta_w2*ALPHA)\n",
        "  net.b2.assign_sub(delta_b2*ALPHA)\n",
        "\n",
        "  return net"
      ],
      "metadata": {
        "id": "EvwsaHBZZ26E"
      },
      "execution_count": 65,
      "outputs": []
    },
    {
      "cell_type": "code",
      "source": [
        "loss=[]\n",
        "e=[]\n",
        "net=NN(w1,b1,w2,b2)\n",
        "for i in range(EPOCH):\n",
        "  net=train(net,X,K,Y)\n",
        "  z,g_z,u,f_u,output=net.compute(X)\n",
        "  e.append(error(output,Y))\n",
        "  loss.append(cost(f_u,K))\n",
        "\n",
        "  if i%100==0:\n",
        "    print(f\"error: {error(output,Y)}, loss: {cost(f_u,K)}\")\n"
      ],
      "metadata": {
        "colab": {
          "base_uri": "https://localhost:8080/"
        },
        "id": "BGRIFbHOawu-",
        "outputId": "a3422583-e34d-40ca-a2f0-914686841c51"
      },
      "execution_count": 67,
      "outputs": [
        {
          "output_type": "stream",
          "name": "stdout",
          "text": [
            "error: 4, loss: -3.451152028868561\n",
            "error: 2, loss: -4.855693509529206\n",
            "error: 2, loss: -4.045397430013556\n",
            "error: 1, loss: -3.4725275024046627\n",
            "error: 0, loss: -3.1508964574850555\n",
            "error: 0, loss: -2.9288311297889944\n",
            "error: 0, loss: -2.7390938540772685\n",
            "error: 0, loss: -2.556742218450096\n",
            "error: 0, loss: -2.3756204126011062\n",
            "error: 0, loss: -2.1976487885887552\n"
          ]
        }
      ]
    },
    {
      "cell_type": "code",
      "source": [
        "plt.plot([i for i in range(EPOCH)],e)"
      ],
      "metadata": {
        "colab": {
          "base_uri": "https://localhost:8080/",
          "height": 282
        },
        "id": "LT31LPMScM9N",
        "outputId": "8f45db09-8719-414e-8ad4-c74d7c948c68"
      },
      "execution_count": 68,
      "outputs": [
        {
          "output_type": "execute_result",
          "data": {
            "text/plain": [
              "[<matplotlib.lines.Line2D at 0x7f724c4444d0>]"
            ]
          },
          "metadata": {},
          "execution_count": 68
        },
        {
          "output_type": "display_data",
          "data": {
            "text/plain": [
              "<Figure size 432x288 with 1 Axes>"
            ],
            "image/png": "[encoded data removed]"
          },
          "metadata": {
            "needs_background": "light"
          }
        }
      ]
    },
    {
      "cell_type": "code",
      "source": [
        "plt.plot([i for i in range(EPOCH)],loss)"
      ],
      "metadata": {
        "colab": {
          "base_uri": "https://localhost:8080/",
          "height": 282
        },
        "id": "AzTB06v9ct4t",
        "outputId": "45ca21ff-a538-4f23-c96f-15390dfb541b"
      },
      "execution_count": 69,
      "outputs": [
        {
          "output_type": "execute_result",
          "data": {
            "text/plain": [
              "[<matplotlib.lines.Line2D at 0x7f724c3b89d0>]"
            ]
          },
          "metadata": {},
          "execution_count": 69
        },
        {
          "output_type": "display_data",
          "data": {
            "text/plain": [
              "<Figure size 432x288 with 1 Axes>"
            ],
            "image/png": "[encoded data removed]"
          },
          "metadata": {
            "needs_background": "light"
          }
        }
      ]
    },
    {
      "cell_type": "markdown",
      "source": [
        "Approximate0.8𝑥^2−𝑦^3+2.5𝑥𝑦"
      ],
      "metadata": {
        "id": "fbuqVbsFdDfc"
      }
    },
    {
      "cell_type": "code",
      "source": [
        "import torch\n",
        "from torch.utils.data import Dataset\n",
        "from torchvision import datasets\n",
        "from torchvision.transforms import ToTensor\n",
        "import matplotlib.pyplot as plt\n",
        "from torch.utils.data import DataLoader\n",
        "from torch import nn\n",
        "import torch.nn.functional as F\n",
        "import torch.optim as optim\n",
        "from torch.utils.data import TensorDataset\n",
        "from torch.utils.data import DataLoader"
      ],
      "metadata": {
        "id": "kye11ljq1Trb"
      },
      "execution_count": 55,
      "outputs": []
    },
    {
      "cell_type": "code",
      "source": [
        "BATCH_SIZE = 64\n",
        "LR = 0.01\n",
        "EPOCH = 1000\n",
        "device = 'cuda' if torch.cuda.is_available() else 'cpu'"
      ],
      "metadata": {
        "id": "7emvkNsw1tSy"
      },
      "execution_count": 58,
      "outputs": []
    },
    {
      "cell_type": "code",
      "source": [
        "X = np.zeros((9*9, 2)).astype(np.float32)\n",
        "p = 0\n",
        "for i in np.arange(-1, 1.001, 0.25):\n",
        "    for j in np.arange(-1, 1.001, 0.25):\n",
        "        X[p] = [i, j]\n",
        "        p += 1\n",
        "\n",
        "np.random.shuffle(X)\n",
        "Y = np.zeros((9*9, 1)).astype(np.float32)\n",
        "Y[:,0] = 0.8*X[:,0]**2 - X[:,1]**3 + 2.5*X[:,0]*X[:,1]"
      ],
      "metadata": {
        "id": "bYWHyorqc5R8"
      },
      "execution_count": 56,
      "outputs": []
    },
    {
      "cell_type": "code",
      "source": [
        "print(X)\n",
        "print(Y)"
      ],
      "metadata": {
        "colab": {
          "base_uri": "https://localhost:8080/"
        },
        "id": "l4An8_UMdYAE",
        "outputId": "5eb33213-046c-48f2-c8e7-3cd98cdbb7df"
      },
      "execution_count": 57,
      "outputs": [
        {
          "output_type": "stream",
          "name": "stdout",
          "text": [
            "[[ 0.75 -0.25]\n",
            " [-0.25 -1.  ]\n",
            " [ 0.25 -0.75]\n",
            " [-1.    0.25]\n",
            " [ 0.5   1.  ]\n",
            " [-0.5  -0.5 ]\n",
            " [-0.75 -0.75]\n",
            " [ 0.    0.5 ]\n",
            " [-0.75  0.25]\n",
            " [ 0.   -0.25]\n",
            " [ 0.25  0.75]\n",
            " [ 0.75 -0.5 ]\n",
            " [-1.   -1.  ]\n",
            " [-0.25  0.75]\n",
            " [-0.75  0.  ]\n",
            " [ 0.75  0.25]\n",
            " [-0.25 -0.5 ]\n",
            " [ 0.25 -0.25]\n",
            " [ 0.75 -0.75]\n",
            " [ 0.75  0.5 ]\n",
            " [ 1.    0.  ]\n",
            " [ 0.75  0.75]\n",
            " [ 0.    0.75]\n",
            " [ 1.    0.75]\n",
            " [ 0.    0.  ]\n",
            " [-1.    0.75]\n",
            " [-0.25  0.5 ]\n",
            " [ 1.   -0.25]\n",
            " [-0.75 -0.5 ]\n",
            " [ 1.    0.5 ]\n",
            " [-0.25  0.25]\n",
            " [-0.25 -0.25]\n",
            " [-0.5   0.5 ]\n",
            " [-1.   -0.75]\n",
            " [-0.75 -1.  ]\n",
            " [ 0.25  1.  ]\n",
            " [ 0.   -0.75]\n",
            " [-0.5   0.75]\n",
            " [-0.25  0.  ]\n",
            " [-0.25  1.  ]\n",
            " [-0.5   0.  ]\n",
            " [-1.   -0.25]\n",
            " [-1.   -0.5 ]\n",
            " [ 0.    0.25]\n",
            " [ 0.   -0.5 ]\n",
            " [-0.25 -0.75]\n",
            " [-0.75  0.5 ]\n",
            " [ 0.75  1.  ]\n",
            " [ 0.25 -0.5 ]\n",
            " [ 0.5  -0.25]\n",
            " [ 1.   -1.  ]\n",
            " [ 0.25 -1.  ]\n",
            " [ 0.   -1.  ]\n",
            " [ 1.   -0.75]\n",
            " [ 0.25  0.25]\n",
            " [ 0.    1.  ]\n",
            " [ 0.5  -0.75]\n",
            " [-0.5   0.25]\n",
            " [-0.5  -1.  ]\n",
            " [ 0.5   0.75]\n",
            " [-1.    1.  ]\n",
            " [-0.5   1.  ]\n",
            " [ 1.    0.25]\n",
            " [-0.5  -0.75]\n",
            " [ 0.25  0.5 ]\n",
            " [ 0.5  -0.5 ]\n",
            " [ 1.   -0.5 ]\n",
            " [-1.    0.5 ]\n",
            " [-0.75  0.75]\n",
            " [-0.75 -0.25]\n",
            " [-0.75  1.  ]\n",
            " [-0.5  -0.25]\n",
            " [-1.    0.  ]\n",
            " [ 0.5   0.  ]\n",
            " [ 0.25  0.  ]\n",
            " [ 0.5   0.25]\n",
            " [ 0.5   0.5 ]\n",
            " [ 0.75  0.  ]\n",
            " [ 1.    1.  ]\n",
            " [ 0.75 -1.  ]\n",
            " [ 0.5  -1.  ]]\n",
            "[[-3.1249821e-03]\n",
            " [ 1.6750000e+00]\n",
            " [ 3.1250119e-03]\n",
            " [ 1.5937501e-01]\n",
            " [ 4.4999999e-01]\n",
            " [ 9.4999999e-01]\n",
            " [ 2.2781250e+00]\n",
            " [-1.2500000e-01]\n",
            " [-3.4374982e-02]\n",
            " [ 1.5625000e-02]\n",
            " [ 9.6875012e-02]\n",
            " [-3.6249995e-01]\n",
            " [ 4.3000002e+00]\n",
            " [-8.4062499e-01]\n",
            " [ 4.5000002e-01]\n",
            " [ 9.0312505e-01]\n",
            " [ 4.8750001e-01]\n",
            " [-9.0625003e-02]\n",
            " [-5.3437495e-01]\n",
            " [ 1.2625000e+00]\n",
            " [ 8.0000001e-01]\n",
            " [ 1.4343750e+00]\n",
            " [-4.2187500e-01]\n",
            " [ 2.2531250e+00]\n",
            " [ 0.0000000e+00]\n",
            " [-1.4968750e+00]\n",
            " [-3.8749999e-01]\n",
            " [ 1.9062501e-01]\n",
            " [ 1.5125000e+00]\n",
            " [ 1.9250000e+00]\n",
            " [-1.2187500e-01]\n",
            " [ 2.2187500e-01]\n",
            " [-5.5000001e-01]\n",
            " [ 3.0968750e+00]\n",
            " [ 3.3250000e+00]\n",
            " [-3.2499999e-01]\n",
            " [ 4.2187500e-01]\n",
            " [-1.1593750e+00]\n",
            " [ 5.0000001e-02]\n",
            " [-1.5750000e+00]\n",
            " [ 2.0000000e-01]\n",
            " [ 1.4406250e+00]\n",
            " [ 2.1750000e+00]\n",
            " [-1.5625000e-02]\n",
            " [ 1.2500000e-01]\n",
            " [ 9.4062501e-01]\n",
            " [-6.1249995e-01]\n",
            " [ 1.3250000e+00]\n",
            " [-1.3750000e-01]\n",
            " [-9.6874997e-02]\n",
            " [-7.0000005e-01]\n",
            " [ 4.2499995e-01]\n",
            " [ 1.0000000e+00]\n",
            " [-6.5312505e-01]\n",
            " [ 1.9062500e-01]\n",
            " [-1.0000000e+00]\n",
            " [-3.1562501e-01]\n",
            " [-1.2812500e-01]\n",
            " [ 2.4500000e+00]\n",
            " [ 7.1562499e-01]\n",
            " [-2.7000000e+00]\n",
            " [-2.0500000e+00]\n",
            " [ 1.4093750e+00]\n",
            " [ 1.5593750e+00]\n",
            " [ 2.3750000e-01]\n",
            " [-3.0000001e-01]\n",
            " [-3.2499999e-01]\n",
            " [-5.7499999e-01]\n",
            " [-1.3781250e+00]\n",
            " [ 9.3437505e-01]\n",
            " [-2.4250000e+00]\n",
            " [ 5.2812499e-01]\n",
            " [ 8.0000001e-01]\n",
            " [ 2.0000000e-01]\n",
            " [ 5.0000001e-02]\n",
            " [ 4.9687499e-01]\n",
            " [ 6.9999999e-01]\n",
            " [ 4.5000002e-01]\n",
            " [ 2.3000000e+00]\n",
            " [-4.2499995e-01]\n",
            " [-4.9999952e-02]]\n"
          ]
        }
      ]
    },
    {
      "cell_type": "code",
      "source": [
        "X=torch.from_numpy(X)\n",
        "Y=torch.reshape(torch.from_numpy(Y),[X.shape[0],1])\n",
        "dataset = TensorDataset(X,Y)\n",
        "train_loader = DataLoader(dataset, batch_size=BATCH_SIZE, shuffle=True)"
      ],
      "metadata": {
        "id": "8tGR4sBWkLNY"
      },
      "execution_count": 60,
      "outputs": []
    },
    {
      "cell_type": "markdown",
      "source": [
        "Take a look at the data"
      ],
      "metadata": {
        "id": "EQrXKqGXk0lw"
      }
    },
    {
      "cell_type": "code",
      "source": [
        "for input,output in train_loader:\n",
        "  print(input)\n",
        "  print(output)"
      ],
      "metadata": {
        "colab": {
          "base_uri": "https://localhost:8080/"
        },
        "id": "lMoTII4Jk2rA",
        "outputId": "ef701c74-2d47-4f7a-94b9-6896d164801a"
      },
      "execution_count": 62,
      "outputs": [
        {
          "output_type": "stream",
          "name": "stdout",
          "text": [
            "tensor([[ 1.0000,  0.0000],\n",
            "        [ 0.2500, -0.5000],\n",
            "        [ 0.5000,  0.7500],\n",
            "        [ 0.2500, -1.0000],\n",
            "        [ 0.7500, -0.2500],\n",
            "        [ 1.0000,  0.7500],\n",
            "        [ 0.2500, -0.7500],\n",
            "        [-0.5000,  0.5000],\n",
            "        [-1.0000,  0.7500],\n",
            "        [-1.0000, -1.0000],\n",
            "        [-0.2500, -0.5000],\n",
            "        [ 1.0000,  0.2500],\n",
            "        [-0.5000, -0.7500],\n",
            "        [ 0.5000, -0.2500],\n",
            "        [ 0.7500,  0.2500],\n",
            "        [-0.2500,  1.0000],\n",
            "        [ 1.0000, -1.0000],\n",
            "        [-0.7500, -0.2500],\n",
            "        [-0.7500,  0.2500],\n",
            "        [-0.7500, -0.7500],\n",
            "        [ 0.5000,  1.0000],\n",
            "        [-0.2500, -0.7500],\n",
            "        [ 0.7500,  1.0000],\n",
            "        [ 0.2500, -0.2500],\n",
            "        [ 0.0000, -0.7500],\n",
            "        [ 0.0000, -0.2500],\n",
            "        [-0.2500,  0.5000],\n",
            "        [ 0.5000, -0.7500],\n",
            "        [-0.7500,  1.0000],\n",
            "        [-0.5000,  1.0000],\n",
            "        [ 0.7500,  0.5000],\n",
            "        [-1.0000, -0.2500],\n",
            "        [ 0.0000,  0.5000],\n",
            "        [-1.0000,  0.2500],\n",
            "        [-0.5000,  0.7500],\n",
            "        [-1.0000,  0.5000],\n",
            "        [ 0.7500, -0.7500],\n",
            "        [-0.5000, -1.0000],\n",
            "        [ 0.2500,  0.7500],\n",
            "        [ 0.7500,  0.7500],\n",
            "        [ 0.7500, -1.0000],\n",
            "        [-0.5000, -0.5000],\n",
            "        [ 0.2500,  0.5000],\n",
            "        [-0.7500,  0.7500],\n",
            "        [-0.7500, -1.0000],\n",
            "        [-1.0000,  1.0000],\n",
            "        [ 0.7500,  0.0000],\n",
            "        [-0.5000,  0.2500],\n",
            "        [-0.7500,  0.0000],\n",
            "        [ 1.0000, -0.5000],\n",
            "        [ 0.0000, -0.5000],\n",
            "        [-0.2500,  0.0000],\n",
            "        [-1.0000, -0.5000],\n",
            "        [ 0.0000,  0.7500],\n",
            "        [-0.2500,  0.7500],\n",
            "        [ 0.5000, -0.5000],\n",
            "        [-0.5000,  0.0000],\n",
            "        [ 0.0000, -1.0000],\n",
            "        [ 1.0000,  1.0000],\n",
            "        [ 0.0000,  0.2500],\n",
            "        [-0.5000, -0.2500],\n",
            "        [ 0.5000,  0.5000],\n",
            "        [ 0.5000,  0.0000],\n",
            "        [ 0.7500, -0.5000]])\n",
            "tensor([[ 8.0000e-01],\n",
            "        [-1.3750e-01],\n",
            "        [ 7.1562e-01],\n",
            "        [ 4.2500e-01],\n",
            "        [-3.1250e-03],\n",
            "        [ 2.2531e+00],\n",
            "        [ 3.1250e-03],\n",
            "        [-5.5000e-01],\n",
            "        [-1.4969e+00],\n",
            "        [ 4.3000e+00],\n",
            "        [ 4.8750e-01],\n",
            "        [ 1.4094e+00],\n",
            "        [ 1.5594e+00],\n",
            "        [-9.6875e-02],\n",
            "        [ 9.0313e-01],\n",
            "        [-1.5750e+00],\n",
            "        [-7.0000e-01],\n",
            "        [ 9.3438e-01],\n",
            "        [-3.4375e-02],\n",
            "        [ 2.2781e+00],\n",
            "        [ 4.5000e-01],\n",
            "        [ 9.4063e-01],\n",
            "        [ 1.3250e+00],\n",
            "        [-9.0625e-02],\n",
            "        [ 4.2188e-01],\n",
            "        [ 1.5625e-02],\n",
            "        [-3.8750e-01],\n",
            "        [-3.1563e-01],\n",
            "        [-2.4250e+00],\n",
            "        [-2.0500e+00],\n",
            "        [ 1.2625e+00],\n",
            "        [ 1.4406e+00],\n",
            "        [-1.2500e-01],\n",
            "        [ 1.5938e-01],\n",
            "        [-1.1594e+00],\n",
            "        [-5.7500e-01],\n",
            "        [-5.3437e-01],\n",
            "        [ 2.4500e+00],\n",
            "        [ 9.6875e-02],\n",
            "        [ 1.4344e+00],\n",
            "        [-4.2500e-01],\n",
            "        [ 9.5000e-01],\n",
            "        [ 2.3750e-01],\n",
            "        [-1.3781e+00],\n",
            "        [ 3.3250e+00],\n",
            "        [-2.7000e+00],\n",
            "        [ 4.5000e-01],\n",
            "        [-1.2812e-01],\n",
            "        [ 4.5000e-01],\n",
            "        [-3.2500e-01],\n",
            "        [ 1.2500e-01],\n",
            "        [ 5.0000e-02],\n",
            "        [ 2.1750e+00],\n",
            "        [-4.2188e-01],\n",
            "        [-8.4062e-01],\n",
            "        [-3.0000e-01],\n",
            "        [ 2.0000e-01],\n",
            "        [ 1.0000e+00],\n",
            "        [ 2.3000e+00],\n",
            "        [-1.5625e-02],\n",
            "        [ 5.2812e-01],\n",
            "        [ 7.0000e-01],\n",
            "        [ 2.0000e-01],\n",
            "        [-3.6250e-01]])\n",
            "tensor([[ 1.0000, -0.2500],\n",
            "        [-1.0000, -0.7500],\n",
            "        [ 0.0000,  0.0000],\n",
            "        [ 0.2500,  0.0000],\n",
            "        [ 1.0000, -0.7500],\n",
            "        [-0.7500, -0.5000],\n",
            "        [-1.0000,  0.0000],\n",
            "        [-0.2500, -1.0000],\n",
            "        [ 1.0000,  0.5000],\n",
            "        [ 0.5000,  0.2500],\n",
            "        [ 0.2500,  1.0000],\n",
            "        [ 0.0000,  1.0000],\n",
            "        [-0.7500,  0.5000],\n",
            "        [-0.2500,  0.2500],\n",
            "        [ 0.2500,  0.2500],\n",
            "        [ 0.5000, -1.0000],\n",
            "        [-0.2500, -0.2500]])\n",
            "tensor([[ 0.1906],\n",
            "        [ 3.0969],\n",
            "        [ 0.0000],\n",
            "        [ 0.0500],\n",
            "        [-0.6531],\n",
            "        [ 1.5125],\n",
            "        [ 0.8000],\n",
            "        [ 1.6750],\n",
            "        [ 1.9250],\n",
            "        [ 0.4969],\n",
            "        [-0.3250],\n",
            "        [-1.0000],\n",
            "        [-0.6125],\n",
            "        [-0.1219],\n",
            "        [ 0.1906],\n",
            "        [-0.0500],\n",
            "        [ 0.2219]])\n"
          ]
        }
      ]
    },
    {
      "cell_type": "markdown",
      "source": [
        "Define the net"
      ],
      "metadata": {
        "id": "ew3RF3POlEOI"
      }
    },
    {
      "cell_type": "code",
      "source": [
        "class NeuralNetwork(nn.Module):\n",
        "    def __init__(self):\n",
        "        super(NeuralNetwork, self).__init__()\n",
        "        self.linear1=nn.Linear(2,10) \n",
        "        self.linear2=nn.Linear(10,5)\n",
        "        self.linear3=nn.Linear(5,1)\n",
        "\n",
        "    def forward(self, x):\n",
        "        x= F.relu(self.linear1(x))\n",
        "        x= F.relu(self.linear2(x))\n",
        "        x=self.linear3(x)\n",
        "        return x"
      ],
      "metadata": {
        "id": "uQKM9CnY2L3z"
      },
      "execution_count": 63,
      "outputs": []
    },
    {
      "cell_type": "code",
      "source": [
        "net=NeuralNetwork().to(device)"
      ],
      "metadata": {
        "id": "_8bRUEzL2gHL"
      },
      "execution_count": 64,
      "outputs": []
    },
    {
      "cell_type": "markdown",
      "source": [
        "Take a look at the initial parameters"
      ],
      "metadata": {
        "id": "-6niQEWQkCZQ"
      }
    },
    {
      "cell_type": "code",
      "source": [
        "params = list(net.parameters())\n",
        "params"
      ],
      "metadata": {
        "colab": {
          "base_uri": "https://localhost:8080/"
        },
        "id": "fxwyf5cfG65i",
        "outputId": "e04935ac-ec68-4b9f-b0db-92efc3406e78"
      },
      "execution_count": 65,
      "outputs": [
        {
          "output_type": "execute_result",
          "data": {
            "text/plain": [
              "[Parameter containing:\n",
              " tensor([[ 0.0355,  0.5819],\n",
              "         [ 0.5716,  0.3460],\n",
              "         [ 0.0921, -0.3722],\n",
              "         [-0.3364, -0.4761],\n",
              "         [-0.3786, -0.2126],\n",
              "         [-0.5829, -0.5126],\n",
              "         [ 0.4773, -0.1174],\n",
              "         [-0.5874, -0.3390],\n",
              "         [-0.4606, -0.5013],\n",
              "         [-0.7067,  0.2767]], requires_grad=True), Parameter containing:\n",
              " tensor([-0.1584, -0.4480,  0.6921, -0.4626,  0.5341, -0.6572, -0.0047, -0.1276,\n",
              "          0.1525,  0.1654], requires_grad=True), Parameter containing:\n",
              " tensor([[ 0.1305,  0.2594, -0.2086, -0.2095, -0.2435, -0.3140, -0.2240, -0.2531,\n",
              "          -0.3099, -0.1109],\n",
              "         [-0.0748,  0.2143,  0.3115, -0.1797,  0.2164, -0.2580,  0.2874, -0.1686,\n",
              "           0.1796,  0.2159],\n",
              "         [ 0.2970,  0.0632,  0.2265, -0.2217,  0.0707,  0.2606, -0.0764, -0.1187,\n",
              "           0.2651,  0.3099],\n",
              "         [ 0.2157,  0.0089,  0.1797, -0.1523, -0.0917, -0.2675, -0.0729,  0.1437,\n",
              "          -0.1585,  0.0083],\n",
              "         [-0.2330,  0.0769, -0.0968, -0.2480,  0.1397,  0.1517, -0.1978,  0.0272,\n",
              "          -0.1823, -0.2883]], requires_grad=True), Parameter containing:\n",
              " tensor([-0.2599, -0.0807, -0.3071, -0.0525,  0.1613], requires_grad=True), Parameter containing:\n",
              " tensor([[-0.3449,  0.0250,  0.2255,  0.2543,  0.2935]], requires_grad=True), Parameter containing:\n",
              " tensor([0.0089], requires_grad=True)]"
            ]
          },
          "metadata": {},
          "execution_count": 65
        }
      ]
    },
    {
      "cell_type": "markdown",
      "source": [
        "Test the output by inputing entire X"
      ],
      "metadata": {
        "id": "xfvEx3FTHEpC"
      }
    },
    {
      "cell_type": "code",
      "source": [
        "result=net(X)\n",
        "result"
      ],
      "metadata": {
        "colab": {
          "base_uri": "https://localhost:8080/"
        },
        "id": "olBo1Ohw2kdD",
        "outputId": "8001ca76-f732-419e-9a40-2a65b13e2f6a"
      },
      "execution_count": 66,
      "outputs": [
        {
          "output_type": "execute_result",
          "data": {
            "text/plain": [
              "tensor([[0.0427],\n",
              "        [0.0563],\n",
              "        [0.0432],\n",
              "        [0.0764],\n",
              "        [0.0369],\n",
              "        [0.0633],\n",
              "        [0.0875],\n",
              "        [0.0380],\n",
              "        [0.0596],\n",
              "        [0.0459],\n",
              "        [0.0369],\n",
              "        [0.0391],\n",
              "        [0.1144],\n",
              "        [0.0389],\n",
              "        [0.0664],\n",
              "        [0.0415],\n",
              "        [0.0562],\n",
              "        [0.0480],\n",
              "        [0.0303],\n",
              "        [0.0404],\n",
              "        [0.0351],\n",
              "        [0.0392],\n",
              "        [0.0293],\n",
              "        [0.0357],\n",
              "        [0.0442],\n",
              "        [0.0785],\n",
              "        [0.0312],\n",
              "        [0.0340],\n",
              "        [0.0805],\n",
              "        [0.0346],\n",
              "        [0.0361],\n",
              "        [0.0500],\n",
              "        [0.0433],\n",
              "        [0.1074],\n",
              "        [0.0946],\n",
              "        [0.0330],\n",
              "        [0.0549],\n",
              "        [0.0491],\n",
              "        [0.0438],\n",
              "        [0.0521],\n",
              "        [0.0496],\n",
              "        [0.0929],\n",
              "        [0.1003],\n",
              "        [0.0465],\n",
              "        [0.0511],\n",
              "        [0.0624],\n",
              "        [0.0596],\n",
              "        [0.0380],\n",
              "        [0.0383],\n",
              "        [0.0484],\n",
              "        [0.0352],\n",
              "        [0.0472],\n",
              "        [0.0567],\n",
              "        [0.0360],\n",
              "        [0.0550],\n",
              "        [0.0421],\n",
              "        [0.0321],\n",
              "        [0.0428],\n",
              "        [0.0747],\n",
              "        [0.0434],\n",
              "        [0.0855],\n",
              "        [0.0621],\n",
              "        [0.0358],\n",
              "        [0.0677],\n",
              "        [0.0460],\n",
              "        [0.0387],\n",
              "        [0.0347],\n",
              "        [0.0759],\n",
              "        [0.0623],\n",
              "        [0.0732],\n",
              "        [0.0721],\n",
              "        [0.0564],\n",
              "        [0.0832],\n",
              "        [0.0511],\n",
              "        [0.0577],\n",
              "        [0.0495],\n",
              "        [0.0461],\n",
              "        [0.0412],\n",
              "        [0.0394],\n",
              "        [0.0358],\n",
              "        [0.0394]], grad_fn=<AddmmBackward0>)"
            ]
          },
          "metadata": {},
          "execution_count": 66
        }
      ]
    },
    {
      "cell_type": "markdown",
      "source": [
        "define 1 training step"
      ],
      "metadata": {
        "id": "w1FoVWTrlNiX"
      }
    },
    {
      "cell_type": "code",
      "source": [
        "def train(net,train_loader):\n",
        "  net.train()\n",
        "  for input,target in train_loader:\n",
        "    optimizer.zero_grad()\n",
        "    output = net(input)\n",
        "    criterion = nn.MSELoss()\n",
        "    loss=criterion(output,target)\n",
        "    loss.backward()\n",
        "    optimizer.step()\n"
      ],
      "metadata": {
        "id": "uRlQNY0oOiSq"
      },
      "execution_count": 71,
      "outputs": []
    },
    {
      "cell_type": "code",
      "source": [
        "net=NeuralNetwork().to(device)\n",
        "optimizer = optim.SGD(net.parameters(), lr=LR)\n",
        "all_loss=[]\n",
        "for i in range(1000):\n",
        "  train(net,train_loader)\n",
        "  criterion=nn.MSELoss()\n",
        "  loss=criterion(net(X),Y).item()\n",
        "  all_loss.append(loss)\n",
        "  if i%100==0:\n",
        "      print(f\"Loss: {loss}\")\n",
        "\n"
      ],
      "metadata": {
        "colab": {
          "base_uri": "https://localhost:8080/"
        },
        "id": "jEB9jm8w7hS6",
        "outputId": "e716df02-387e-4db2-fb19-c894c7b203be"
      },
      "execution_count": 72,
      "outputs": [
        {
          "output_type": "stream",
          "name": "stdout",
          "text": [
            "Loss: 1.7292414903640747\n",
            "Loss: 1.3844482898712158\n",
            "Loss: 1.0918974876403809\n",
            "Loss: 0.6461411118507385\n",
            "Loss: 0.34307605028152466\n",
            "Loss: 0.20292599499225616\n",
            "Loss: 0.15777252614498138\n",
            "Loss: 0.13458271324634552\n",
            "Loss: 0.1196688637137413\n",
            "Loss: 0.10869965702295303\n"
          ]
        }
      ]
    },
    {
      "cell_type": "code",
      "source": [
        "plt.plot([i for i in range(EPOCH)],all_loss)"
      ],
      "metadata": {
        "colab": {
          "base_uri": "https://localhost:8080/",
          "height": 285
        },
        "id": "SSa5vGX_i3zo",
        "outputId": "9ed864ff-645e-4bc7-ffa8-15e65ea19d75"
      },
      "execution_count": 73,
      "outputs": [
        {
          "output_type": "execute_result",
          "data": {
            "text/plain": [
              "[<matplotlib.lines.Line2D at 0x7f27735a3e50>]"
            ]
          },
          "metadata": {},
          "execution_count": 73
        },
        {
          "output_type": "display_data",
          "data": {
            "text/plain": [
              "<Figure size 432x288 with 1 Axes>"
            ],
            "image/png": "[encoded data removed]"
          },
          "metadata": {
            "needs_background": "light"
          }
        }
      ]
    }
  ]
}