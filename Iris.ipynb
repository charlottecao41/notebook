{
  "nbformat": 4,
  "nbformat_minor": 0,
  "metadata": {
    "colab": {
      "provenance": [],
      "collapsed_sections": []
    },
    "kernelspec": {
      "name": "python3",
      "display_name": "Python 3"
    },
    "language_info": {
      "name": "python"
    }
  },
  "cells": [
    {
      "cell_type": "code",
      "execution_count": 1,
      "metadata": {
        "id": "ZBlqDzvl6-X4"
      },
      "outputs": [],
      "source": [
        "from sklearn import datasets  \n",
        "import numpy as np\n",
        "import tensorflow as tf\n",
        "import random\n",
        "import matplotlib.pyplot as plt"
      ]
    },
    {
      "cell_type": "markdown",
      "source": [
        "take a look at the data"
      ],
      "metadata": {
        "id": "anx3wwwxEPXL"
      }
    },
    {
      "cell_type": "code",
      "source": [
        "iris = datasets.load_iris() \n",
        "iris"
      ],
      "metadata": {
        "colab": {
          "base_uri": "https://localhost:8080/"
        },
        "id": "meJjm9hK7Eh7",
        "outputId": "472a8d53-24c2-45f9-8bf5-d2a92bf1ccd2"
      },
      "execution_count": 2,
      "outputs": [
        {
          "output_type": "execute_result",
          "data": {
            "text/plain": [
              "{'data': array([[5.1, 3.5, 1.4, 0.2],\n",
              "        [4.9, 3. , 1.4, 0.2],\n",
              "        [4.7, 3.2, 1.3, 0.2],\n",
              "        [4.6, 3.1, 1.5, 0.2],\n",
              "        [5. , 3.6, 1.4, 0.2],\n",
              "        [5.4, 3.9, 1.7, 0.4],\n",
              "        [4.6, 3.4, 1.4, 0.3],\n",
              "        [5. , 3.4, 1.5, 0.2],\n",
              "        [4.4, 2.9, 1.4, 0.2],\n",
              "        [4.9, 3.1, 1.5, 0.1],\n",
              "        [5.4, 3.7, 1.5, 0.2],\n",
              "        [4.8, 3.4, 1.6, 0.2],\n",
              "        [4.8, 3. , 1.4, 0.1],\n",
              "        [4.3, 3. , 1.1, 0.1],\n",
              "        [5.8, 4. , 1.2, 0.2],\n",
              "        [5.7, 4.4, 1.5, 0.4],\n",
              "        [5.4, 3.9, 1.3, 0.4],\n",
              "        [5.1, 3.5, 1.4, 0.3],\n",
              "        [5.7, 3.8, 1.7, 0.3],\n",
              "        [5.1, 3.8, 1.5, 0.3],\n",
              "        [5.4, 3.4, 1.7, 0.2],\n",
              "        [5.1, 3.7, 1.5, 0.4],\n",
              "        [4.6, 3.6, 1. , 0.2],\n",
              "        [5.1, 3.3, 1.7, 0.5],\n",
              "        [4.8, 3.4, 1.9, 0.2],\n",
              "        [5. , 3. , 1.6, 0.2],\n",
              "        [5. , 3.4, 1.6, 0.4],\n",
              "        [5.2, 3.5, 1.5, 0.2],\n",
              "        [5.2, 3.4, 1.4, 0.2],\n",
              "        [4.7, 3.2, 1.6, 0.2],\n",
              "        [4.8, 3.1, 1.6, 0.2],\n",
              "        [5.4, 3.4, 1.5, 0.4],\n",
              "        [5.2, 4.1, 1.5, 0.1],\n",
              "        [5.5, 4.2, 1.4, 0.2],\n",
              "        [4.9, 3.1, 1.5, 0.2],\n",
              "        [5. , 3.2, 1.2, 0.2],\n",
              "        [5.5, 3.5, 1.3, 0.2],\n",
              "        [4.9, 3.6, 1.4, 0.1],\n",
              "        [4.4, 3. , 1.3, 0.2],\n",
              "        [5.1, 3.4, 1.5, 0.2],\n",
              "        [5. , 3.5, 1.3, 0.3],\n",
              "        [4.5, 2.3, 1.3, 0.3],\n",
              "        [4.4, 3.2, 1.3, 0.2],\n",
              "        [5. , 3.5, 1.6, 0.6],\n",
              "        [5.1, 3.8, 1.9, 0.4],\n",
              "        [4.8, 3. , 1.4, 0.3],\n",
              "        [5.1, 3.8, 1.6, 0.2],\n",
              "        [4.6, 3.2, 1.4, 0.2],\n",
              "        [5.3, 3.7, 1.5, 0.2],\n",
              "        [5. , 3.3, 1.4, 0.2],\n",
              "        [7. , 3.2, 4.7, 1.4],\n",
              "        [6.4, 3.2, 4.5, 1.5],\n",
              "        [6.9, 3.1, 4.9, 1.5],\n",
              "        [5.5, 2.3, 4. , 1.3],\n",
              "        [6.5, 2.8, 4.6, 1.5],\n",
              "        [5.7, 2.8, 4.5, 1.3],\n",
              "        [6.3, 3.3, 4.7, 1.6],\n",
              "        [4.9, 2.4, 3.3, 1. ],\n",
              "        [6.6, 2.9, 4.6, 1.3],\n",
              "        [5.2, 2.7, 3.9, 1.4],\n",
              "        [5. , 2. , 3.5, 1. ],\n",
              "        [5.9, 3. , 4.2, 1.5],\n",
              "        [6. , 2.2, 4. , 1. ],\n",
              "        [6.1, 2.9, 4.7, 1.4],\n",
              "        [5.6, 2.9, 3.6, 1.3],\n",
              "        [6.7, 3.1, 4.4, 1.4],\n",
              "        [5.6, 3. , 4.5, 1.5],\n",
              "        [5.8, 2.7, 4.1, 1. ],\n",
              "        [6.2, 2.2, 4.5, 1.5],\n",
              "        [5.6, 2.5, 3.9, 1.1],\n",
              "        [5.9, 3.2, 4.8, 1.8],\n",
              "        [6.1, 2.8, 4. , 1.3],\n",
              "        [6.3, 2.5, 4.9, 1.5],\n",
              "        [6.1, 2.8, 4.7, 1.2],\n",
              "        [6.4, 2.9, 4.3, 1.3],\n",
              "        [6.6, 3. , 4.4, 1.4],\n",
              "        [6.8, 2.8, 4.8, 1.4],\n",
              "        [6.7, 3. , 5. , 1.7],\n",
              "        [6. , 2.9, 4.5, 1.5],\n",
              "        [5.7, 2.6, 3.5, 1. ],\n",
              "        [5.5, 2.4, 3.8, 1.1],\n",
              "        [5.5, 2.4, 3.7, 1. ],\n",
              "        [5.8, 2.7, 3.9, 1.2],\n",
              "        [6. , 2.7, 5.1, 1.6],\n",
              "        [5.4, 3. , 4.5, 1.5],\n",
              "        [6. , 3.4, 4.5, 1.6],\n",
              "        [6.7, 3.1, 4.7, 1.5],\n",
              "        [6.3, 2.3, 4.4, 1.3],\n",
              "        [5.6, 3. , 4.1, 1.3],\n",
              "        [5.5, 2.5, 4. , 1.3],\n",
              "        [5.5, 2.6, 4.4, 1.2],\n",
              "        [6.1, 3. , 4.6, 1.4],\n",
              "        [5.8, 2.6, 4. , 1.2],\n",
              "        [5. , 2.3, 3.3, 1. ],\n",
              "        [5.6, 2.7, 4.2, 1.3],\n",
              "        [5.7, 3. , 4.2, 1.2],\n",
              "        [5.7, 2.9, 4.2, 1.3],\n",
              "        [6.2, 2.9, 4.3, 1.3],\n",
              "        [5.1, 2.5, 3. , 1.1],\n",
              "        [5.7, 2.8, 4.1, 1.3],\n",
              "        [6.3, 3.3, 6. , 2.5],\n",
              "        [5.8, 2.7, 5.1, 1.9],\n",
              "        [7.1, 3. , 5.9, 2.1],\n",
              "        [6.3, 2.9, 5.6, 1.8],\n",
              "        [6.5, 3. , 5.8, 2.2],\n",
              "        [7.6, 3. , 6.6, 2.1],\n",
              "        [4.9, 2.5, 4.5, 1.7],\n",
              "        [7.3, 2.9, 6.3, 1.8],\n",
              "        [6.7, 2.5, 5.8, 1.8],\n",
              "        [7.2, 3.6, 6.1, 2.5],\n",
              "        [6.5, 3.2, 5.1, 2. ],\n",
              "        [6.4, 2.7, 5.3, 1.9],\n",
              "        [6.8, 3. , 5.5, 2.1],\n",
              "        [5.7, 2.5, 5. , 2. ],\n",
              "        [5.8, 2.8, 5.1, 2.4],\n",
              "        [6.4, 3.2, 5.3, 2.3],\n",
              "        [6.5, 3. , 5.5, 1.8],\n",
              "        [7.7, 3.8, 6.7, 2.2],\n",
              "        [7.7, 2.6, 6.9, 2.3],\n",
              "        [6. , 2.2, 5. , 1.5],\n",
              "        [6.9, 3.2, 5.7, 2.3],\n",
              "        [5.6, 2.8, 4.9, 2. ],\n",
              "        [7.7, 2.8, 6.7, 2. ],\n",
              "        [6.3, 2.7, 4.9, 1.8],\n",
              "        [6.7, 3.3, 5.7, 2.1],\n",
              "        [7.2, 3.2, 6. , 1.8],\n",
              "        [6.2, 2.8, 4.8, 1.8],\n",
              "        [6.1, 3. , 4.9, 1.8],\n",
              "        [6.4, 2.8, 5.6, 2.1],\n",
              "        [7.2, 3. , 5.8, 1.6],\n",
              "        [7.4, 2.8, 6.1, 1.9],\n",
              "        [7.9, 3.8, 6.4, 2. ],\n",
              "        [6.4, 2.8, 5.6, 2.2],\n",
              "        [6.3, 2.8, 5.1, 1.5],\n",
              "        [6.1, 2.6, 5.6, 1.4],\n",
              "        [7.7, 3. , 6.1, 2.3],\n",
              "        [6.3, 3.4, 5.6, 2.4],\n",
              "        [6.4, 3.1, 5.5, 1.8],\n",
              "        [6. , 3. , 4.8, 1.8],\n",
              "        [6.9, 3.1, 5.4, 2.1],\n",
              "        [6.7, 3.1, 5.6, 2.4],\n",
              "        [6.9, 3.1, 5.1, 2.3],\n",
              "        [5.8, 2.7, 5.1, 1.9],\n",
              "        [6.8, 3.2, 5.9, 2.3],\n",
              "        [6.7, 3.3, 5.7, 2.5],\n",
              "        [6.7, 3. , 5.2, 2.3],\n",
              "        [6.3, 2.5, 5. , 1.9],\n",
              "        [6.5, 3. , 5.2, 2. ],\n",
              "        [6.2, 3.4, 5.4, 2.3],\n",
              "        [5.9, 3. , 5.1, 1.8]]),\n",
              " 'target': array([0, 0, 0, 0, 0, 0, 0, 0, 0, 0, 0, 0, 0, 0, 0, 0, 0, 0, 0, 0, 0, 0,\n",
              "        0, 0, 0, 0, 0, 0, 0, 0, 0, 0, 0, 0, 0, 0, 0, 0, 0, 0, 0, 0, 0, 0,\n",
              "        0, 0, 0, 0, 0, 0, 1, 1, 1, 1, 1, 1, 1, 1, 1, 1, 1, 1, 1, 1, 1, 1,\n",
              "        1, 1, 1, 1, 1, 1, 1, 1, 1, 1, 1, 1, 1, 1, 1, 1, 1, 1, 1, 1, 1, 1,\n",
              "        1, 1, 1, 1, 1, 1, 1, 1, 1, 1, 1, 1, 2, 2, 2, 2, 2, 2, 2, 2, 2, 2,\n",
              "        2, 2, 2, 2, 2, 2, 2, 2, 2, 2, 2, 2, 2, 2, 2, 2, 2, 2, 2, 2, 2, 2,\n",
              "        2, 2, 2, 2, 2, 2, 2, 2, 2, 2, 2, 2, 2, 2, 2, 2, 2, 2]),\n",
              " 'frame': None,\n",
              " 'target_names': array(['setosa', 'versicolor', 'virginica'], dtype='<U10'),\n",
              " 'DESCR': '.. _iris_dataset:\\n\\nIris plants dataset\\n--------------------\\n\\n**Data Set Characteristics:**\\n\\n    :Number of Instances: 150 (50 in each of three classes)\\n    :Number of Attributes: 4 numeric, predictive attributes and the class\\n    :Attribute Information:\\n        - sepal length in cm\\n        - sepal width in cm\\n        - petal length in cm\\n        - petal width in cm\\n        - class:\\n                - Iris-Setosa\\n                - Iris-Versicolour\\n                - Iris-Virginica\\n                \\n    :Summary Statistics:\\n\\n    ============== ==== ==== ======= ===== ====================\\n                    Min  Max   Mean    SD   Class Correlation\\n    ============== ==== ==== ======= ===== ====================\\n    sepal length:   4.3  7.9   5.84   0.83    0.7826\\n    sepal width:    2.0  4.4   3.05   0.43   -0.4194\\n    petal length:   1.0  6.9   3.76   1.76    0.9490  (high!)\\n    petal width:    0.1  2.5   1.20   0.76    0.9565  (high!)\\n    ============== ==== ==== ======= ===== ====================\\n\\n    :Missing Attribute Values: None\\n    :Class Distribution: 33.3% for each of 3 classes.\\n    :Creator: R.A. Fisher\\n    :Donor: Michael Marshall (MARSHALL%PLU@io.arc.nasa.gov)\\n    :Date: July, 1988\\n\\nThe famous Iris database, first used by Sir R.A. Fisher. The dataset is taken\\nfrom Fisher\\'s paper. Note that it\\'s the same as in R, but not as in the UCI\\nMachine Learning Repository, which has two wrong data points.\\n\\nThis is perhaps the best known database to be found in the\\npattern recognition literature.  Fisher\\'s paper is a classic in the field and\\nis referenced frequently to this day.  (See Duda & Hart, for example.)  The\\ndata set contains 3 classes of 50 instances each, where each class refers to a\\ntype of iris plant.  One class is linearly separable from the other 2; the\\nlatter are NOT linearly separable from each other.\\n\\n.. topic:: References\\n\\n   - Fisher, R.A. \"The use of multiple measurements in taxonomic problems\"\\n     Annual Eugenics, 7, Part II, 179-188 (1936); also in \"Contributions to\\n     Mathematical Statistics\" (John Wiley, NY, 1950).\\n   - Duda, R.O., & Hart, P.E. (1973) Pattern Classification and Scene Analysis.\\n     (Q327.D83) John Wiley & Sons.  ISBN 0-471-22361-1.  See page 218.\\n   - Dasarathy, B.V. (1980) \"Nosing Around the Neighborhood: A New System\\n     Structure and Classification Rule for Recognition in Partially Exposed\\n     Environments\".  IEEE Transactions on Pattern Analysis and Machine\\n     Intelligence, Vol. PAMI-2, No. 1, 67-71.\\n   - Gates, G.W. (1972) \"The Reduced Nearest Neighbor Rule\".  IEEE Transactions\\n     on Information Theory, May 1972, 431-433.\\n   - See also: 1988 MLC Proceedings, 54-64.  Cheeseman et al\"s AUTOCLASS II\\n     conceptual clustering system finds 3 classes in the data.\\n   - Many, many more ...',\n",
              " 'feature_names': ['sepal length (cm)',\n",
              "  'sepal width (cm)',\n",
              "  'petal length (cm)',\n",
              "  'petal width (cm)'],\n",
              " 'filename': 'iris.csv',\n",
              " 'data_module': 'sklearn.datasets.data'}"
            ]
          },
          "metadata": {},
          "execution_count": 2
        }
      ]
    },
    {
      "cell_type": "markdown",
      "source": [
        "Transform target"
      ],
      "metadata": {
        "id": "QAWTKTl7E_Cs"
      }
    },
    {
      "cell_type": "code",
      "source": [
        "k=[]\n",
        "for i in iris['target']:\n",
        "  k1=[]\n",
        "  for j in range(3):\n",
        "    if j==i:\n",
        "      k1.append(1)\n",
        "    else:\n",
        "      k1.append(0)\n",
        "\n",
        "  k.append(k1)\n",
        "\n",
        "K=np.array(k).astype('float64')"
      ],
      "metadata": {
        "id": "HfYrKDCFETLz"
      },
      "execution_count": 3,
      "outputs": []
    },
    {
      "cell_type": "markdown",
      "source": [
        "define layer"
      ],
      "metadata": {
        "id": "uQDistscVVsw"
      }
    },
    {
      "cell_type": "code",
      "source": [
        "class Layer:\n",
        "  def __init__(self,init_w,init_b):\n",
        "    self.w=tf.Variable(init_w,dtype='float64')\n",
        "    self.b=tf.Variable(init_b,dtype='float64')\n",
        "\n",
        "  def compute(self,x):\n",
        "    result=tf.sigmoid(tf.matmul(x,self.w)+self.b) #n*4, 4*3\n",
        "    output=tf.argmax(result,axis=1)\n",
        "    return result, output\n",
        "\n"
      ],
      "metadata": {
        "id": "TC37MAuOFBr0"
      },
      "execution_count": 4,
      "outputs": []
    },
    {
      "cell_type": "markdown",
      "source": [
        "define batchify code"
      ],
      "metadata": {
        "id": "A98w9CiZVX6O"
      }
    },
    {
      "cell_type": "code",
      "source": [
        "def batch(size):\n",
        "  r=[]\n",
        "  j=0\n",
        "  while j<size:\n",
        "    x=random.randint(0,len(iris['target'])-1)\n",
        "    if x not in r:\n",
        "      r.append(x)\n",
        "      j=j+1\n",
        "\n",
        "  new_input=[]\n",
        "  new_target=[]\n",
        "  new_k=[]\n",
        "  for i in r:\n",
        "    new_input.append(iris['data'][i].astype('float64'))\n",
        "    new_target.append(iris['target'][i])\n",
        "    new_k.append(K[i].astype('float64'))\n",
        "\n",
        "  return np.array(new_input,dtype='float64'),np.array(new_target,dtype=int),np.array(new_k,dtype='float64')"
      ],
      "metadata": {
        "id": "KA8egQ2-GfIU"
      },
      "execution_count": 5,
      "outputs": []
    },
    {
      "cell_type": "markdown",
      "source": [
        "initialise w and b"
      ],
      "metadata": {
        "id": "oOeOTn9sVaTn"
      }
    },
    {
      "cell_type": "code",
      "source": [
        "w=np.random.normal(0, 1, (4, 3)).astype('float64')\n",
        "b=np.array([0,0,0]).astype('float64')"
      ],
      "metadata": {
        "id": "2nhMgpHPFug1"
      },
      "execution_count": 6,
      "outputs": []
    },
    {
      "cell_type": "markdown",
      "source": [
        "define loss and error function"
      ],
      "metadata": {
        "id": "Ill_9DkDVcFP"
      }
    },
    {
      "cell_type": "code",
      "source": [
        "def error(output,target):\n",
        "  return tf.reduce_sum(tf.cast(tf.not_equal(output,target),tf.int32))\n",
        "\n",
        "def cost(output,target):\n",
        "  return tf.reduce_sum(tf.math.log(output)*target)"
      ],
      "metadata": {
        "id": "CduqXJHdIjJ9"
      },
      "execution_count": 7,
      "outputs": []
    },
    {
      "cell_type": "markdown",
      "source": [
        "Test"
      ],
      "metadata": {
        "id": "JFN3GbXUKy22"
      }
    },
    {
      "cell_type": "code",
      "source": [
        "layer=Layer(w,b)\n",
        "input,target,k_prime=batch(20)\n",
        "raw,output=layer.compute(input)\n",
        "print(output)\n",
        "print(\"Loss: \", cost(raw,k_prime))\n",
        "print(\"Error: \", error(output,target))"
      ],
      "metadata": {
        "colab": {
          "base_uri": "https://localhost:8080/"
        },
        "id": "0dWnfbcAK7gF",
        "outputId": "98ccd904-80ec-4ae0-c40e-9e8ea2a1929f"
      },
      "execution_count": 8,
      "outputs": [
        {
          "output_type": "stream",
          "name": "stdout",
          "text": [
            "tf.Tensor([1 1 1 1 1 1 1 1 1 1 1 1 1 1 1 1 1 1 1 1], shape=(20,), dtype=int64)\n",
            "Loss:  tf.Tensor(-86.39168147316957, shape=(), dtype=float64)\n",
            "Error:  tf.Tensor(13, shape=(), dtype=int32)\n"
          ]
        }
      ]
    },
    {
      "cell_type": "markdown",
      "source": [
        "Define HP"
      ],
      "metadata": {
        "id": "vfkdR14bNf41"
      }
    },
    {
      "cell_type": "code",
      "source": [
        "EPOCH=1000\n",
        "alpha=0.01\n",
        "batch_size=2"
      ],
      "metadata": {
        "id": "9Uh8UamVNfdu"
      },
      "execution_count": 9,
      "outputs": []
    },
    {
      "cell_type": "markdown",
      "source": [
        "One epoch training"
      ],
      "metadata": {
        "id": "2ZmcDUJqVgWf"
      }
    },
    {
      "cell_type": "code",
      "source": [
        "def train(layer,input,target):\n",
        "  raw,output=layer.compute(input)\n",
        "  delta_j=-(target-raw) #n*3\n",
        "  layer.w=layer.w-alpha*tf.matmul(tf.transpose(input),delta_j) #4*n,n*3\n",
        "  layer.b=layer.b-alpha*delta_j\n",
        "\n",
        "  return layer"
      ],
      "metadata": {
        "id": "MXglyg8DNowl"
      },
      "execution_count": 10,
      "outputs": []
    },
    {
      "cell_type": "markdown",
      "source": [
        "start training for different batch sizes"
      ],
      "metadata": {
        "id": "HdjZde1BViYW"
      }
    },
    {
      "cell_type": "code",
      "source": [
        "all_loss=[]\n",
        "all_error=[]\n",
        "for batch_size in [ 2, 4, 8, 16, 24, 32, 48, 64]:\n",
        "  l=Layer(w,b)\n",
        "  loss=[]\n",
        "  e=[]\n",
        "  for i in range(EPOCH):\n",
        "    input,target,k_prime=batch(batch_size)\n",
        "    l=train(l,input,k_prime)\n",
        "\n",
        "    raw,output=l.compute(input)\n",
        "    loss.append(-1*cost(raw,k_prime))\n",
        "    e.append(error(output,target))\n",
        "    if i%100 == 0:\n",
        "      print(\"epoch: \",i, end=\" \")\n",
        "      print(\"Loss: \", -1*cost(raw,k_prime).numpy(), end=\" \")\n",
        "      print(\"Error: \", error(output,target).numpy())\n",
        "    \n",
        "    all_loss.append(loss)\n",
        "    all_error.append(e)\n",
        "  "
      ],
      "metadata": {
        "colab": {
          "base_uri": "https://localhost:8080/"
        },
        "id": "KWd11aMkPfue",
        "outputId": "da0973cc-d4a8-4df8-88bd-f7941cf2169a"
      },
      "execution_count": 11,
      "outputs": [
        {
          "output_type": "stream",
          "name": "stdout",
          "text": [
            "epoch:  0 Loss:  3.120164365798168 Error:  1\n",
            "epoch:  100 Loss:  0.6181970876913963 Error:  0\n",
            "epoch:  200 Loss:  0.9260603623792948 Error:  1\n",
            "epoch:  300 Loss:  1.3426063490354374 Error:  1\n",
            "epoch:  400 Loss:  1.201908411287935 Error:  0\n",
            "epoch:  500 Loss:  0.44421001321991377 Error:  0\n",
            "epoch:  600 Loss:  0.7414067817588035 Error:  0\n",
            "epoch:  700 Loss:  0.4778591424089762 Error:  0\n",
            "epoch:  800 Loss:  0.9501885964452718 Error:  1\n",
            "epoch:  900 Loss:  0.47662587237590864 Error:  0\n",
            "epoch:  0 Loss:  3.595340012909312 Error:  1\n",
            "epoch:  100 Loss:  0.9227985457060777 Error:  0\n",
            "epoch:  200 Loss:  2.188986840797548 Error:  0\n",
            "epoch:  300 Loss:  1.9959070292212058 Error:  2\n",
            "epoch:  400 Loss:  1.5011803149904517 Error:  0\n",
            "epoch:  500 Loss:  1.896450341165207 Error:  1\n",
            "epoch:  600 Loss:  2.2743022886129474 Error:  1\n",
            "epoch:  700 Loss:  1.4833398907658422 Error:  1\n",
            "epoch:  800 Loss:  0.07323020600302184 Error:  0\n",
            "epoch:  900 Loss:  0.2564408941004725 Error:  0\n",
            "epoch:  0 Loss:  30.106319228515098 Error:  5\n",
            "epoch:  100 Loss:  3.5136992330656933 Error:  0\n",
            "epoch:  200 Loss:  3.322475970415458 Error:  0\n",
            "epoch:  300 Loss:  0.8767890629013353 Error:  0\n",
            "epoch:  400 Loss:  3.5006393936769475 Error:  1\n",
            "epoch:  500 Loss:  4.14457123925931 Error:  1\n",
            "epoch:  600 Loss:  2.3772055682238893 Error:  0\n",
            "epoch:  700 Loss:  2.2132637787326663 Error:  1\n",
            "epoch:  800 Loss:  2.089089968366533 Error:  0\n",
            "epoch:  900 Loss:  2.097537467195569 Error:  1\n",
            "epoch:  0 Loss:  41.66311171512692 Error:  10\n",
            "epoch:  100 Loss:  5.208980427460409 Error:  2\n",
            "epoch:  200 Loss:  8.687843780398437 Error:  2\n",
            "epoch:  300 Loss:  6.325752513488943 Error:  2\n",
            "epoch:  400 Loss:  3.746406015500537 Error:  2\n",
            "epoch:  500 Loss:  3.154337405254295 Error:  0\n",
            "epoch:  600 Loss:  8.168741323287538 Error:  2\n",
            "epoch:  700 Loss:  6.084069771203102 Error:  1\n",
            "epoch:  800 Loss:  8.683741558754807 Error:  1\n",
            "epoch:  900 Loss:  4.611795434098286 Error:  1\n",
            "epoch:  0 Loss:  68.75704718395443 Error:  14\n",
            "epoch:  100 Loss:  16.239368182255994 Error:  5\n",
            "epoch:  200 Loss:  4.653494873256548 Error:  3\n",
            "epoch:  300 Loss:  5.868806070431136 Error:  3\n",
            "epoch:  400 Loss:  3.555046780930264 Error:  1\n",
            "epoch:  500 Loss:  4.168029174547483 Error:  3\n",
            "epoch:  600 Loss:  21.326507322902653 Error:  4\n",
            "epoch:  700 Loss:  10.134910673167692 Error:  2\n",
            "epoch:  800 Loss:  3.765629827750386 Error:  3\n",
            "epoch:  900 Loss:  19.57678060458705 Error:  4\n",
            "epoch:  0 Loss:  112.70355160913745 Error:  28\n",
            "epoch:  100 Loss:  8.291742749560619 Error:  9\n",
            "epoch:  200 Loss:  78.4093418468673 Error:  12\n",
            "epoch:  300 Loss:  42.42886473773419 Error:  8\n",
            "epoch:  400 Loss:  4.442443376575923 Error:  5\n",
            "epoch:  500 Loss:  3.2796588302175618 Error:  13\n",
            "epoch:  600 Loss:  10.32698944543131 Error:  2\n",
            "epoch:  700 Loss:  44.6074335274179 Error:  6\n",
            "epoch:  800 Loss:  14.246464100330195 Error:  3\n",
            "epoch:  900 Loss:  2.198508619353988 Error:  7\n",
            "epoch:  0 Loss:  215.89329438715566 Error:  31\n",
            "epoch:  100 Loss:  165.69405402431312 Error:  14\n",
            "epoch:  200 Loss:  5.727044289135154 Error:  5\n",
            "epoch:  300 Loss:  2.435383108300429 Error:  10\n",
            "epoch:  400 Loss:  2.6522783672078054 Error:  11\n",
            "epoch:  500 Loss:  50.36174070697987 Error:  8\n",
            "epoch:  600 Loss:  5.597030550781745 Error:  3\n",
            "epoch:  700 Loss:  151.81621608349778 Error:  16\n",
            "epoch:  800 Loss:  3.1693856105099933 Error:  8\n",
            "epoch:  900 Loss:  9.560595898829686 Error:  2\n",
            "epoch:  0 Loss:  343.91076949020567 Error:  34\n",
            "epoch:  100 Loss:  435.2330509951669 Error:  21\n",
            "epoch:  200 Loss:  1.8918687698793224 Error:  15\n",
            "epoch:  300 Loss:  270.68696252088444 Error:  27\n",
            "epoch:  400 Loss:  203.6821003687079 Error:  19\n",
            "epoch:  500 Loss:  141.84297618509646 Error:  17\n",
            "epoch:  600 Loss:  205.98840426004452 Error:  20\n",
            "epoch:  700 Loss:  15.96838912967899 Error:  9\n",
            "epoch:  800 Loss:  9.352045609446707 Error:  10\n",
            "epoch:  900 Loss:  17.496858680153224 Error:  8\n"
          ]
        }
      ]
    },
    {
      "cell_type": "code",
      "source": [
        "sizes= [ 2, 4, 8, 16, 24, 32, 48, 64]\n",
        "for i in range(len( sizes)):\n",
        "  avg_error=(tf.reduce_sum(all_error[i])/sizes[i]/EPOCH).numpy()\n",
        "  avg_loss=(tf.reduce_sum(all_loss[i])/EPOCH).numpy()\n",
        "\n",
        "  print(\"size: \", sizes[i], \" average error: \", avg_error, \" average loss: \", avg_loss)\n"
      ],
      "metadata": {
        "colab": {
          "base_uri": "https://localhost:8080/"
        },
        "id": "ZX6EkQVGTFS2",
        "outputId": "25cdcd1c-dcd0-4abd-f476-ca349be10bdd"
      },
      "execution_count": 12,
      "outputs": [
        {
          "output_type": "stream",
          "name": "stdout",
          "text": [
            "size:  2  average error:  0.1255  average loss:  0.9372471414029869\n",
            "size:  4  average error:  0.06275  average loss:  0.9372471414029869\n",
            "size:  8  average error:  0.031375  average loss:  0.9372471414029869\n",
            "size:  16  average error:  0.0156875  average loss:  0.9372471414029869\n",
            "size:  24  average error:  0.010458333333333333  average loss:  0.9372471414029869\n",
            "size:  32  average error:  0.00784375  average loss:  0.9372471414029869\n",
            "size:  48  average error:  0.005229166666666667  average loss:  0.9372471414029869\n",
            "size:  64  average error:  0.003921875  average loss:  0.9372471414029869\n"
          ]
        }
      ]
    },
    {
      "cell_type": "markdown",
      "source": [
        "generally a larger batch size leads to a lower average error. Now we plot the graph and see the violatility"
      ],
      "metadata": {
        "id": "9cafR8kOVlxn"
      }
    },
    {
      "cell_type": "code",
      "source": [
        "figure, axis = plt.subplots(2, 4)\n",
        "for i in range(len( sizes)):\n",
        "  if i<4:\n",
        "    axis[0, i%4].plot([i for i in range(EPOCH)],all_loss[i])\n",
        "\n",
        "  else:\n",
        "    axis[1, i%4].plot([i for i in range(EPOCH)],all_loss[i])\n",
        "\n",
        "plt.show()"
      ],
      "metadata": {
        "colab": {
          "base_uri": "https://localhost:8080/",
          "height": 265
        },
        "id": "9FLnY9D6RNIH",
        "outputId": "88736a92-768c-4ebe-e314-2e08d7f6972d"
      },
      "execution_count": 13,
      "outputs": [
        {
          "output_type": "display_data",
          "data": {
            "text/plain": [
              "<Figure size 432x288 with 8 Axes>"
            ],
            "image/png": "[encoded data removed]"
          },
          "metadata": {
            "needs_background": "light"
          }
        }
      ]
    }
  ]
}