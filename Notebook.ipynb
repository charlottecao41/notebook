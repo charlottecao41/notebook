{
 "cells": [
  {
   "cell_type": "markdown",
   "metadata": {},
   "source": [
    "So this is my personal notes using the MNIST dataset (covering some basic type of NN)"
   ]
  },
  {
   "cell_type": "code",
   "execution_count": 237,
   "metadata": {},
   "outputs": [],
   "source": [
    "#import necessary packages\n",
    "import torch\n",
    "from torch.utils.data import Dataset\n",
    "from torchvision import datasets\n",
    "from torchvision.transforms import ToTensor\n",
    "import matplotlib.pyplot as plt\n",
    "from torch.utils.data import DataLoader\n",
    "from torch import nn\n",
    "import torch.nn.functional as F\n",
    "from torch.utils.data import Subset\n",
    "import numpy as np\n"
   ]
  },
  {
   "cell_type": "code",
   "execution_count": 244,
   "metadata": {},
   "outputs": [],
   "source": [
    "#define some global para\n",
    "BATCH_SIZE = 64\n",
    "LR = 0.01\n",
    "EPOCH = 10\n",
    "device = 'cuda' if torch.cuda.is_available() else 'cpu'"
   ]
  },
  {
   "cell_type": "code",
   "execution_count": 239,
   "metadata": {},
   "outputs": [],
   "source": [
    "#download data\n",
    "trainset = datasets.MNIST(\n",
    "    root = 'data',\n",
    "    train = True,                         \n",
    "    transform = ToTensor(), \n",
    "    download = True           \n",
    ")\n",
    "\n",
    "testset = datasets.MNIST(\n",
    "    root = 'data',\n",
    "    train = False,                         \n",
    "    transform = ToTensor(), \n",
    "    download = True            \n",
    ")"
   ]
  },
  {
   "cell_type": "code",
   "execution_count": 168,
   "metadata": {},
   "outputs": [],
   "source": [
    "#dataloader\n",
    "trainloader = DataLoader(trainset, batch_size=BATCH_SIZE, shuffle=True)\n",
    "testloader = DataLoader(testset, batch_size=BATCH_SIZE, shuffle=True)"
   ]
  },
  {
   "cell_type": "markdown",
   "metadata": {},
   "source": [
    "After getting the data into loader, I want to see what's a picture is like, so i picked the first one:"
   ]
  },
  {
   "cell_type": "code",
   "execution_count": 169,
   "metadata": {},
   "outputs": [
    {
     "data": {
      "image/png": "[encoded data removed]",
      "text/plain": [
       "<Figure size 432x288 with 1 Axes>"
      ]
     },
     "metadata": {
      "needs_background": "light"
     },
     "output_type": "display_data"
    },
    {
     "name": "stdout",
     "output_type": "stream",
     "text": [
      "tensor(9)\n"
     ]
    }
   ],
   "source": [
    "#get a random picture and have a look\n",
    "batch_img, batch_label= next(iter(trainloader))\n",
    "plt.imshow(batch_img[0].squeeze(), cmap=\"gray\")\n",
    "plt.show()\n",
    "print(batch_label[0])"
   ]
  },
  {
   "cell_type": "markdown",
   "metadata": {},
   "source": [
    "And I want to see each item inside the loader:"
   ]
  },
  {
   "cell_type": "code",
   "execution_count": 170,
   "metadata": {},
   "outputs": [
    {
     "data": {
      "text/plain": [
       "torch.Size([64, 1, 28, 28])"
      ]
     },
     "execution_count": 170,
     "metadata": {},
     "output_type": "execute_result"
    }
   ],
   "source": [
    "batch_img.shape\n",
    "#And see the shape: 64 imgs in a batch, 1 channel, 28 x 28 size"
   ]
  },
  {
   "cell_type": "markdown",
   "metadata": {},
   "source": [
    "Ok, so we start with a simple neural network first. It is a two-layer linear structure. To fit the 28x28 image inside, we need to flatten it to 1 dimension, and we classify it from then on."
   ]
  },
  {
   "cell_type": "code",
   "execution_count": 171,
   "metadata": {},
   "outputs": [],
   "source": [
    "#Try with a neural network with 2 linear layers first, will be used on flattened image set\n",
    "class SimpleNeuralNetwork(nn.Module):\n",
    "    def __init__(self):\n",
    "        super(SimpleNeuralNetwork, self).__init__()\n",
    "        self.flatten=nn.Flatten()\n",
    "        self.linear1=nn.Linear(784,256) #can tweak the paras to see if there are better results\n",
    "        self.linear2=nn.Linear(256,10) #ten categories\n",
    "\n",
    "    def forward(self, x):\n",
    "        x = self.flatten(x)\n",
    "        x= F.relu(self.linear1(x))\n",
    "        x= F.log_softmax(self.linear2(x))\n",
    "        return x"
   ]
  },
  {
   "cell_type": "code",
   "execution_count": 172,
   "metadata": {},
   "outputs": [
    {
     "name": "stderr",
     "output_type": "stream",
     "text": [
      "C:\\Users\\charl\\AppData\\Local\\Temp\\ipykernel_12904\\3852790194.py:12: UserWarning: Implicit dimension choice for log_softmax has been deprecated. Change the call to include dim=X as an argument.\n",
      "  x= F.log_softmax(self.linear2(x))\n"
     ]
    },
    {
     "name": "stdout",
     "output_type": "stream",
     "text": [
      "Test: 0 Accuracy: tensor(0.8667, device='cuda:0')\n",
      "Test: 1 Accuracy: tensor(0.8943, device='cuda:0')\n",
      "Test: 2 Accuracy: tensor(0.9024, device='cuda:0')\n",
      "Test: 3 Accuracy: tensor(0.9108, device='cuda:0')\n",
      "Test: 4 Accuracy: tensor(0.9155, device='cuda:0')\n",
      "Test: 5 Accuracy: tensor(0.9208, device='cuda:0')\n",
      "Test: 6 Accuracy: tensor(0.9242, device='cuda:0')\n",
      "Test: 7 Accuracy: tensor(0.9270, device='cuda:0')\n",
      "Test: 8 Accuracy: tensor(0.9301, device='cuda:0')\n",
      "Test: 9 Accuracy: tensor(0.9326, device='cuda:0')\n"
     ]
    }
   ],
   "source": [
    "#create model\n",
    "model = SimpleNeuralNetwork().to(device)\n",
    "optimizer = torch.optim.SGD(model.parameters(),lr=LR)\n",
    "\n",
    "#training\n",
    "def train(epoch_num):\n",
    "  model.train()\n",
    "  for batch_num,(x_train,y_train) in enumerate(trainloader):\n",
    "    optimizer.zero_grad()\n",
    "    #calculate output\n",
    "    output = model(x_train.to(device))\n",
    " \n",
    "    #calculate loss\n",
    "    loss = F.nll_loss(output, y_train.to(device))\n",
    "    \n",
    "    #backprop\n",
    "    loss.backward()\n",
    "    optimizer.step()\n",
    "\n",
    "def test(epoch_num):\n",
    "  correct = 0\n",
    "  with torch.no_grad():\n",
    "    for x_test, y_test in testloader:\n",
    "      output = model(x_test.to(device))\n",
    "      prediction = output.data.max(1, keepdim=True)[1]\n",
    "      correct += prediction.eq(y_test.to(device).data.view_as(prediction)).sum()\n",
    "  print(\"Test: \"+ str(epoch_num) + \" Accuracy: \"+str(correct/len(testloader.dataset)))\n",
    "  \n",
    "for i in range(EPOCH):\n",
    "  train(i)\n",
    "  test(i)"
   ]
  },
  {
   "cell_type": "markdown",
   "metadata": {},
   "source": [
    "Looks like the accuracy is pretty good, at around 90% for only 10 epochs (sorry it takes quite a while to run for more epochs, so I'll only use 10)\n",
    "\n",
    "Now let's see if we want to retain the spatial structure, i.e. know the position of pixels in a 2d way instead of simple flattening.\n",
    "\n",
    "We will use a CNN, and I build a rough one with 2 conv layers, and we extract the \"key info\" into a flattened tensor and pass it to a linear layer for it to categorize into 10 categories.\n"
   ]
  },
  {
   "cell_type": "code",
   "execution_count": 173,
   "metadata": {},
   "outputs": [],
   "source": [
    "#It seems flattened MNIST is pretty good, but what if we want to retain spatial info?\n",
    "#So we define CNN\n",
    "\n",
    "class CNN(nn.Module):\n",
    "    def __init__(self):\n",
    "        super(CNN, self).__init__()\n",
    "        self.flatten=nn.Flatten()\n",
    "        self.conv1 = nn.Conv2d(1,5, kernel_size=5) #assume in 1 channel, out 5 channel, and it is a 5,5 square filter\n",
    "        self.conv2 = nn.Conv2d(5, 10, kernel_size=5)\n",
    "        self.convdrop = nn.Dropout2d()\n",
    "        self.linear1=nn.Linear(160,10)#flattened shape should be of length 160\n",
    "\n",
    "    def forward(self, x):\n",
    "        x= F.relu(F.max_pool2d(self.conv1(x),2))#using max pool because it is kinda the 'brightest' spot\n",
    "        x= F.relu(F.max_pool2d(self.convdrop(self.conv2(x)),2))\n",
    "        x = self.flatten(x) #need to flatten it to pass into the linear layer\n",
    "        x=F.relu(self.linear1(x))\n",
    "        return F.log_softmax(x)"
   ]
  },
  {
   "cell_type": "code",
   "execution_count": 174,
   "metadata": {},
   "outputs": [
    {
     "name": "stderr",
     "output_type": "stream",
     "text": [
      "C:\\Users\\charl\\AppData\\Local\\Temp\\ipykernel_12904\\2296799989.py:18: UserWarning: Implicit dimension choice for log_softmax has been deprecated. Change the call to include dim=X as an argument.\n",
      "  return F.log_softmax(x)\n"
     ]
    },
    {
     "name": "stdout",
     "output_type": "stream",
     "text": [
      "Train batch : 0 Loss: 2.2981276512145996\n",
      "Train batch : 100 Loss: 2.279198408126831\n",
      "Train batch : 200 Loss: 2.265749931335449\n",
      "Train batch : 300 Loss: 2.2190499305725098\n",
      "Train batch : 400 Loss: 2.0052578449249268\n",
      "Train batch : 500 Loss: 1.4925092458724976\n",
      "Train batch : 600 Loss: 1.493431568145752\n",
      "Train batch : 700 Loss: 1.1589534282684326\n",
      "Train batch : 800 Loss: 1.0297698974609375\n",
      "Train batch : 900 Loss: 1.0617928504943848\n",
      "Test: 0 Accuracy: tensor(0.7082, device='cuda:0')\n",
      "Train batch : 0 Loss: 1.0730575323104858\n",
      "Train batch : 100 Loss: 1.25726318359375\n",
      "Train batch : 200 Loss: 1.0652964115142822\n",
      "Train batch : 300 Loss: 1.2147197723388672\n",
      "Train batch : 400 Loss: 0.7091343998908997\n",
      "Train batch : 500 Loss: 0.694392204284668\n",
      "Train batch : 600 Loss: 0.5129460692405701\n",
      "Train batch : 700 Loss: 0.44637537002563477\n",
      "Train batch : 800 Loss: 0.5419738292694092\n",
      "Train batch : 900 Loss: 0.4966060221195221\n",
      "Test: 1 Accuracy: tensor(0.8965, device='cuda:0')\n",
      "Train batch : 0 Loss: 0.4919413924217224\n",
      "Train batch : 100 Loss: 0.5062481760978699\n",
      "Train batch : 200 Loss: 0.35354548692703247\n",
      "Train batch : 300 Loss: 0.3223651051521301\n",
      "Train batch : 400 Loss: 0.3545784652233124\n",
      "Train batch : 500 Loss: 0.3818627595901489\n",
      "Train batch : 600 Loss: 0.493882417678833\n",
      "Train batch : 700 Loss: 0.38164687156677246\n",
      "Train batch : 800 Loss: 0.7312498688697815\n",
      "Train batch : 900 Loss: 0.25293251872062683\n",
      "Test: 2 Accuracy: tensor(0.9303, device='cuda:0')\n",
      "Train batch : 0 Loss: 0.5310673713684082\n",
      "Train batch : 100 Loss: 0.36429664492607117\n",
      "Train batch : 200 Loss: 0.3340522050857544\n",
      "Train batch : 300 Loss: 0.2754315435886383\n",
      "Train batch : 400 Loss: 0.2453596144914627\n",
      "Train batch : 500 Loss: 0.2657744586467743\n",
      "Train batch : 600 Loss: 0.6473606824874878\n",
      "Train batch : 700 Loss: 0.5489199757575989\n",
      "Train batch : 800 Loss: 0.22795359790325165\n",
      "Train batch : 900 Loss: 0.2607402801513672\n",
      "Test: 3 Accuracy: tensor(0.9409, device='cuda:0')\n",
      "Train batch : 0 Loss: 0.3853759467601776\n",
      "Train batch : 100 Loss: 0.25334855914115906\n",
      "Train batch : 200 Loss: 0.36601483821868896\n",
      "Train batch : 300 Loss: 0.345426470041275\n",
      "Train batch : 400 Loss: 0.3135344684123993\n",
      "Train batch : 500 Loss: 0.3645254969596863\n",
      "Train batch : 600 Loss: 0.20855748653411865\n",
      "Train batch : 700 Loss: 0.3532451391220093\n",
      "Train batch : 800 Loss: 0.430819571018219\n",
      "Train batch : 900 Loss: 0.26788330078125\n",
      "Test: 4 Accuracy: tensor(0.9459, device='cuda:0')\n",
      "Train batch : 0 Loss: 0.3371466398239136\n",
      "Train batch : 100 Loss: 0.2939833998680115\n",
      "Train batch : 200 Loss: 0.26699355244636536\n",
      "Train batch : 300 Loss: 0.33051639795303345\n",
      "Train batch : 400 Loss: 0.17133653163909912\n",
      "Train batch : 500 Loss: 0.2623422145843506\n",
      "Train batch : 600 Loss: 0.33259162306785583\n",
      "Train batch : 700 Loss: 0.3373599052429199\n",
      "Train batch : 800 Loss: 0.4359320104122162\n",
      "Train batch : 900 Loss: 0.253194659948349\n",
      "Test: 5 Accuracy: tensor(0.9484, device='cuda:0')\n",
      "Train batch : 0 Loss: 0.3674705922603607\n",
      "Train batch : 100 Loss: 0.2489561140537262\n",
      "Train batch : 200 Loss: 0.2643028795719147\n",
      "Train batch : 300 Loss: 0.2339974194765091\n",
      "Train batch : 400 Loss: 0.3043285012245178\n",
      "Train batch : 500 Loss: 0.20501558482646942\n",
      "Train batch : 600 Loss: 0.21486790478229523\n",
      "Train batch : 700 Loss: 0.2889925539493561\n",
      "Train batch : 800 Loss: 0.2756374776363373\n",
      "Train batch : 900 Loss: 0.23256295919418335\n",
      "Test: 6 Accuracy: tensor(0.9561, device='cuda:0')\n",
      "Train batch : 0 Loss: 0.22890695929527283\n",
      "Train batch : 100 Loss: 0.22812192142009735\n",
      "Train batch : 200 Loss: 0.22048872709274292\n",
      "Train batch : 300 Loss: 0.17727157473564148\n",
      "Train batch : 400 Loss: 0.18289418518543243\n",
      "Train batch : 500 Loss: 0.16937799751758575\n",
      "Train batch : 600 Loss: 0.32352951169013977\n",
      "Train batch : 700 Loss: 0.18634316325187683\n",
      "Train batch : 800 Loss: 0.24691452085971832\n",
      "Train batch : 900 Loss: 0.3771505653858185\n",
      "Test: 7 Accuracy: tensor(0.9574, device='cuda:0')\n",
      "Train batch : 0 Loss: 0.30502602458000183\n",
      "Train batch : 100 Loss: 0.23902343213558197\n",
      "Train batch : 200 Loss: 0.3130873739719391\n",
      "Train batch : 300 Loss: 0.12122538685798645\n",
      "Train batch : 400 Loss: 0.1318311095237732\n",
      "Train batch : 500 Loss: 0.3348114490509033\n",
      "Train batch : 600 Loss: 0.306084007024765\n",
      "Train batch : 700 Loss: 0.311056911945343\n",
      "Train batch : 800 Loss: 0.2699795067310333\n",
      "Train batch : 900 Loss: 0.3716616928577423\n",
      "Test: 8 Accuracy: tensor(0.9613, device='cuda:0')\n",
      "Train batch : 0 Loss: 0.3391358554363251\n",
      "Train batch : 100 Loss: 0.22029991447925568\n",
      "Train batch : 200 Loss: 0.1774398535490036\n",
      "Train batch : 300 Loss: 0.24944651126861572\n",
      "Train batch : 400 Loss: 0.2770244777202606\n",
      "Train batch : 500 Loss: 0.34690359234809875\n",
      "Train batch : 600 Loss: 0.08816757053136826\n",
      "Train batch : 700 Loss: 0.16766993701457977\n",
      "Train batch : 800 Loss: 0.19132958352565765\n",
      "Train batch : 900 Loss: 0.35903406143188477\n",
      "Test: 9 Accuracy: tensor(0.9628, device='cuda:0')\n"
     ]
    }
   ],
   "source": [
    "model_cnn = CNN().to(device)\n",
    "optimizer = torch.optim.SGD(model_cnn.parameters(),lr=LR)\n",
    "\n",
    "#training\n",
    "def train(epoch_num):\n",
    "  model_cnn.train()\n",
    "  for batch_num,(x_train,y_train) in enumerate(trainloader):\n",
    "    \n",
    "    optimizer.zero_grad()\n",
    "    #calculate output\n",
    "    output = model_cnn(x_train.to(device))\n",
    " \n",
    "    #calculate loss\n",
    "    loss = F.nll_loss(output, y_train.to(device))\n",
    "   \n",
    "    #backprop\n",
    "    loss.backward()\n",
    "    optimizer.step()\n",
    "    \n",
    "    #train acc\n",
    "    if batch_num % 100 == 0:\n",
    "      print(\"Train batch : \"+ str(batch_num) + \" Loss: \"+str(loss.item()))\n",
    "\n",
    "def test(epoch_num):\n",
    "  model_cnn.eval()\n",
    "  correct = 0\n",
    "  with torch.no_grad():\n",
    "    for x_test, y_test in testloader:\n",
    "      output = model_cnn(x_test.to(device))\n",
    "      prediction = output.data.max(1, keepdim=True)[1]\n",
    "      correct += prediction.eq(y_test.to(device).data.view_as(prediction)).sum()\n",
    "  print(\"Test: \"+ str(epoch_num) + \" Accuracy: \"+str(correct/len(testloader.dataset)))\n",
    "  \n",
    "for i in range(EPOCH):\n",
    "  train(i)\n",
    "  test(i)"
   ]
  },
  {
   "cell_type": "markdown",
   "metadata": {},
   "source": [
    "Results look good too. of course, we can change the parameters to get better accuracy, but for now we'll leave it like that and try our next model, GAN.\n",
    "\n",
    "Since GAN is about generating an image, perhaps we should use image for 1 number instead. Since I like number 5 I'll just pick that."
   ]
  },
  {
   "cell_type": "code",
   "execution_count": 240,
   "metadata": {},
   "outputs": [],
   "source": [
    "indices = [idx for idx, target in enumerate(trainset.targets) if target == 5]\n",
    "trainloader_5 = torch.utils.data.DataLoader(Subset(trainset, indices),\n",
    "                                         batch_size=BATCH_SIZE, \n",
    "                                         drop_last=True)\n",
    "\n",
    "indices = [idx for idx, target in enumerate(testset.targets) if target == 5]\n",
    "testloader_5 = torch.utils.data.DataLoader(Subset(trainset, indices),\n",
    "                                         batch_size=BATCH_SIZE, \n",
    "                                         drop_last=True)"
   ]
  },
  {
   "cell_type": "code",
   "execution_count": 203,
   "metadata": {},
   "outputs": [
    {
     "data": {
      "image/png": "[encoded data removed]",
      "text/plain": [
       "<Figure size 432x288 with 1 Axes>"
      ]
     },
     "metadata": {
      "needs_background": "light"
     },
     "output_type": "display_data"
    }
   ],
   "source": [
    "#get a random picture and have a look\n",
    "batch_img, batch_label = next(iter(trainloader_5))\n",
    "plt.imshow(batch_img[0].squeeze(), cmap=\"gray\")\n",
    "plt.show()"
   ]
  },
  {
   "cell_type": "markdown",
   "metadata": {},
   "source": [
    "Discriminator takes in the whole 784 numbers and use 2 layers to divide into 2 categories. "
   ]
  },
  {
   "cell_type": "code",
   "execution_count": 241,
   "metadata": {},
   "outputs": [],
   "source": [
    "\n",
    "class Discriminator(nn.Module):\n",
    "    def __init__(self):\n",
    "        super(Discriminator, self).__init__()\n",
    "        self.flatten=nn.Flatten()\n",
    "        self.linear1=nn.Linear(784,256) #can tweak the paras to see if there are better results\n",
    "        self.linear2=nn.Linear(256,2) #ten categories\n",
    "\n",
    "    def forward(self, x):\n",
    "        x=self.flatten(x)\n",
    "        x= F.relu(self.linear1(x))\n",
    "        x= F.log_softmax(self.linear2(x))\n",
    "        return x"
   ]
  },
  {
   "cell_type": "markdown",
   "metadata": {},
   "source": [
    "Gnerator takes in random noise to get the 784 numbers."
   ]
  },
  {
   "cell_type": "code",
   "execution_count": 266,
   "metadata": {},
   "outputs": [],
   "source": [
    "class Generator (nn.Module):\n",
    "    def __init__(self, inpute_size):\n",
    "        super(Generator, self).__init__()\n",
    "        self.linear1=nn.Linear(input_size,256) #can tweak the paras to see if there are better results\n",
    "        self.linear2=nn.Linear(256,784) #ten categories\n",
    "\n",
    "    def forward(self, x):\n",
    "        x= F.relu(self.linear1(x))\n",
    "        x= torch.tanh(self.linear2(x))\n",
    "        return x"
   ]
  },
  {
   "cell_type": "markdown",
   "metadata": {},
   "source": [
    "I created some hyper parameter below. The 100 is the input noise size, and epoch is changed to 100 to get a better picture."
   ]
  },
  {
   "cell_type": "code",
   "execution_count": 267,
   "metadata": {},
   "outputs": [],
   "source": [
    "#hyper para\n",
    "input_size = 100\n",
    "EPOCH = 100"
   ]
  },
  {
   "cell_type": "code",
   "execution_count": 268,
   "metadata": {},
   "outputs": [
    {
     "name": "stderr",
     "output_type": "stream",
     "text": [
      "C:\\Users\\charl\\AppData\\Local\\Temp\\ipykernel_12904\\1753854258.py:11: UserWarning: Implicit dimension choice for log_softmax has been deprecated. Change the call to include dim=X as an argument.\n",
      "  x= F.log_softmax(self.linear2(x))\n"
     ]
    },
    {
     "name": "stdout",
     "output_type": "stream",
     "text": [
      "G: 1.080370545387268 D: 0.4720352292060852\n",
      "G: 0.812414824962616 D: 0.7685874104499817\n",
      "G: 0.829698920249939 D: 0.8583457469940186\n",
      "G: 0.8324255347251892 D: 0.9721237421035767\n",
      "G: 0.9152796864509583 D: 0.9770674109458923\n",
      "G: 1.1318325996398926 D: 0.7996824979782104\n",
      "G: 1.4470990896224976 D: 0.5644732713699341\n",
      "G: 1.7209727764129639 D: 0.37917831540107727\n",
      "G: 1.7703897953033447 D: 0.3382510542869568\n",
      "G: 1.933081865310669 D: 0.3372156620025635\n",
      "G: 1.8876174688339233 D: 0.38473933935165405\n",
      "G: 1.7420073747634888 D: 0.41964107751846313\n",
      "G: 1.575890064239502 D: 0.7849604487419128\n",
      "G: 1.521875023841858 D: 0.5306041836738586\n",
      "G: 1.6665974855422974 D: 0.47660893201828003\n",
      "G: 1.6999620199203491 D: 0.4668906033039093\n",
      "G: 1.6899415254592896 D: 0.3963555097579956\n",
      "G: 1.8730520009994507 D: 0.4167863130569458\n",
      "G: 1.8741395473480225 D: 0.4457424283027649\n",
      "G: 2.3164610862731934 D: 0.323199987411499\n",
      "G: 1.7308251857757568 D: 0.7450475692749023\n",
      "G: 1.6813454627990723 D: 0.669833242893219\n",
      "G: 1.8546912670135498 D: 0.511181116104126\n",
      "G: 1.7884563207626343 D: 0.5305050611495972\n",
      "G: 2.1554954051971436 D: 0.3712606132030487\n",
      "G: 2.2816216945648193 D: 0.5267691016197205\n",
      "G: 1.8454197645187378 D: 0.6420224905014038\n",
      "G: 2.059377431869507 D: 0.6370536088943481\n",
      "G: 1.7357609272003174 D: 0.665360152721405\n",
      "G: 1.9194633960723877 D: 0.5408285856246948\n",
      "G: 1.8129193782806396 D: 0.6135274171829224\n",
      "G: 1.6111068725585938 D: 1.0774157047271729\n",
      "G: 2.062412977218628 D: 0.4659504294395447\n",
      "G: 2.0891995429992676 D: 0.830817699432373\n",
      "G: 2.1908841133117676 D: 0.49181634187698364\n",
      "G: 1.7711576223373413 D: 0.5798284411430359\n",
      "G: 1.828497290611267 D: 0.6479454040527344\n",
      "G: 2.090494155883789 D: 0.5200644731521606\n",
      "G: 1.6790779829025269 D: 1.0598727464675903\n",
      "G: 2.309800386428833 D: 0.5007020235061646\n",
      "G: 1.6078425645828247 D: 0.7590726613998413\n",
      "G: 1.8983107805252075 D: 0.4962536692619324\n",
      "G: 1.7211663722991943 D: 0.7025622129440308\n",
      "G: 1.634087085723877 D: 0.7004852294921875\n",
      "G: 1.8688308000564575 D: 0.6359292268753052\n",
      "G: 1.873630404472351 D: 0.5955728888511658\n",
      "G: 1.398503065109253 D: 0.7646258473396301\n",
      "G: 1.9316951036453247 D: 0.6675300598144531\n",
      "G: 1.8484655618667603 D: 0.6735304594039917\n",
      "G: 1.9767189025878906 D: 0.5606343746185303\n",
      "G: 1.7763334512710571 D: 0.6551937460899353\n",
      "G: 2.1086478233337402 D: 0.5103789567947388\n",
      "G: 2.227123975753784 D: 0.5816950798034668\n",
      "G: 2.185530662536621 D: 0.6318080425262451\n",
      "G: 1.931511640548706 D: 0.4949864149093628\n",
      "G: 1.685483694076538 D: 0.6293959617614746\n",
      "G: 2.073122024536133 D: 0.6371315717697144\n",
      "G: 2.030442476272583 D: 0.6043002605438232\n",
      "G: 2.105363368988037 D: 0.5303514003753662\n",
      "G: 2.357849597930908 D: 0.5913339257240295\n",
      "G: 2.170215606689453 D: 0.665766716003418\n",
      "G: 2.1266438961029053 D: 0.7020167112350464\n",
      "G: 1.8670107126235962 D: 0.5845321416854858\n",
      "G: 2.265951156616211 D: 0.5462549924850464\n",
      "G: 1.9155821800231934 D: 0.5928546190261841\n",
      "G: 1.9175207614898682 D: 0.6764857172966003\n",
      "G: 2.0866963863372803 D: 0.6229520440101624\n",
      "G: 2.1083993911743164 D: 0.5659177899360657\n",
      "G: 2.1412856578826904 D: 0.5977931618690491\n",
      "G: 1.8439387083053589 D: 0.6573407649993896\n",
      "G: 2.2012150287628174 D: 0.6536579728126526\n",
      "G: 1.7443933486938477 D: 0.6487483978271484\n",
      "G: 2.1398227214813232 D: 0.6549204587936401\n",
      "G: 2.0330309867858887 D: 0.6792427897453308\n",
      "G: 1.7731835842132568 D: 0.6467849016189575\n",
      "G: 2.0057003498077393 D: 0.6338728666305542\n",
      "G: 2.0678491592407227 D: 0.6425283551216125\n",
      "G: 1.936431884765625 D: 0.7781835794448853\n",
      "G: 1.6443113088607788 D: 0.655604362487793\n",
      "G: 2.1702651977539062 D: 0.691102147102356\n",
      "G: 1.8211207389831543 D: 0.6882079839706421\n",
      "G: 1.692092776298523 D: 0.6074033975601196\n",
      "G: 2.1276910305023193 D: 0.7309970855712891\n",
      "G: 1.9752684831619263 D: 0.7139561176300049\n",
      "G: 1.9856934547424316 D: 0.6948728561401367\n",
      "G: 2.0370569229125977 D: 0.7120335102081299\n",
      "G: 1.968424916267395 D: 0.6663733124732971\n",
      "G: 1.7975120544433594 D: 0.5932928323745728\n",
      "G: 1.7538416385650635 D: 0.5874086618423462\n",
      "G: 1.925713062286377 D: 0.6421000957489014\n",
      "G: 1.8290376663208008 D: 0.6300605535507202\n",
      "G: 1.5457301139831543 D: 0.6038401126861572\n",
      "G: 1.8534330129623413 D: 0.6043857336044312\n",
      "G: 1.4914839267730713 D: 0.6041630506515503\n",
      "G: 1.784368872642517 D: 0.6979344487190247\n",
      "G: 1.7698029279708862 D: 0.6269413232803345\n",
      "G: 2.1699061393737793 D: 0.5748356580734253\n",
      "G: 1.8744311332702637 D: 0.6617797613143921\n",
      "G: 1.872983455657959 D: 0.6645772457122803\n",
      "G: 1.7148813009262085 D: 0.5823967456817627\n"
     ]
    }
   ],
   "source": [
    "#create model\n",
    "D=Discriminator()\n",
    "G=Generator(input_size)\n",
    "\n",
    "#define optim\n",
    "D_optimizer = torch.optim.SGD(D.parameters(), LR)\n",
    "G_optimizer = torch.optim.SGD(G.parameters(), LR)\n",
    "\n",
    "def train():\n",
    "  D.train()\n",
    "  G.train()\n",
    "  for item in trainloader_5:\n",
    "    \n",
    "    #train D first\n",
    "    D_optimizer.zero_grad()\n",
    "    D_real = D(item[0])\n",
    "    D_real_loss = F.nll_loss(D_real, torch.from_numpy(np.ones(BATCH_SIZE)).type(torch. int64))\n",
    "    \n",
    "    #get some random noise\n",
    "    z = np.random.uniform(-1, 1, size=(BATCH_SIZE, input_size))\n",
    "    z = torch.from_numpy(z).float()\n",
    "    \n",
    "    fake_images = G(z)\n",
    "        \n",
    "    # Compute the discriminator losses on fake images        \n",
    "    D_fake = D(fake_images)\n",
    "    D_fake_loss = F.nll_loss(D_fake, torch.from_numpy(np.zeros(BATCH_SIZE)).type(torch. int64))\n",
    "    \n",
    "    D_loss = D_real_loss + D_fake_loss\n",
    "    D_loss.backward()\n",
    "    D_optimizer.step()\n",
    "    \n",
    "    \n",
    "    #train G next\n",
    "    G_optimizer.zero_grad()\n",
    "    z = np.random.uniform(-1, 1, size=(BATCH_SIZE, input_size))\n",
    "    z = torch.from_numpy(z).float()\n",
    "    fake_images = G(z)\n",
    "    D_fake = D(fake_images)\n",
    "    G_loss = F.nll_loss(D_fake, torch.from_numpy(np.ones(BATCH_SIZE)).type(torch. int64))\n",
    "    G_loss.backward()\n",
    "    G_optimizer.step()\n",
    "  \n",
    "  print(\"G: \"+str(G_loss.item())+\" D: \"+str(D_loss.item()))\n",
    "\n",
    "for i in range(EPOCH):\n",
    "  train()\n",
    "  G.eval() # eval mode for generating samples\n",
    "  G.train()\n",
    "  \n",
    "\n",
    "\n",
    "    "
   ]
  },
  {
   "cell_type": "markdown",
   "metadata": {},
   "source": [
    "And below is the result (I picked the first one generated)! As we can see it is not perfect yet with the kinda grey background, but the '5' shape is rather distinct. With more epochs and some tuning of the architecture, it is possible to achieve a better outcome."
   ]
  },
  {
   "cell_type": "code",
   "execution_count": 269,
   "metadata": {},
   "outputs": [
    {
     "data": {
      "image/png": "[encoded data removed]",
      "text/plain": [
       "<Figure size 432x288 with 1 Axes>"
      ]
     },
     "metadata": {
      "needs_background": "light"
     },
     "output_type": "display_data"
    }
   ],
   "source": [
    "input =  np.random.uniform(-1, 1, size=(BATCH_SIZE, input_size))\n",
    "input = torch.from_numpy(input).float()\n",
    "img_set = G(input)\n",
    "img=img_set[0]\n",
    "img=img.view(28,28).detach().numpy()\n",
    "plt.imshow(img, cmap=\"gray\")\n",
    "plt.show()"
   ]
  }
 ],
 "metadata": {
  "kernelspec": {
   "display_name": "Python 3.10.5 64-bit",
   "language": "python",
   "name": "python3"
  },
  "language_info": {
   "codemirror_mode": {
    "name": "ipython",
    "version": 3
   },
   "file_extension": ".py",
   "mimetype": "text/x-python",
   "name": "python",
   "nbconvert_exporter": "python",
   "pygments_lexer": "ipython3",
   "version": "3.10.5"
  },
  "orig_nbformat": 4,
  "vscode": {
   "interpreter": {
    "hash": "b6213e0af081d56db034f795ff49d96980936e2ae540dda57fc6c3cbea6a5fc9"
   }
  }
 },
 "nbformat": 4,
 "nbformat_minor": 2
}
