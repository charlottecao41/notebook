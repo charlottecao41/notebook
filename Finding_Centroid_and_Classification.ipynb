{
  "nbformat": 4,
  "nbformat_minor": 0,
  "metadata": {
    "colab": {
      "name": "Finding Centroid and Classification.ipynb",
      "provenance": []
    },
    "kernelspec": {
      "name": "python3",
      "display_name": "Python 3"
    },
    "language_info": {
      "name": "python"
    }
  },
  "cells": [
    {
      "cell_type": "code",
      "execution_count": null,
      "metadata": {
        "id": "TlmjQ03YaLha"
      },
      "outputs": [],
      "source": [
        "#Import necessary pkg\n",
        "import tensorflow as tf\n",
        "import random\n",
        "import matplotlib.pyplot as plt\n",
        "import numpy as np\n",
        "import math"
      ]
    },
    {
      "cell_type": "code",
      "source": [
        "X=[[5,1],[7,3],[3,2],[5,4],[0,0],[-1,-3],[-2,3],[-3,0]]\n",
        "Y=[0,0,0,0,1,1,1,1]"
      ],
      "metadata": {
        "id": "gQws4K-8afUA"
      },
      "execution_count": null,
      "outputs": []
    },
    {
      "cell_type": "markdown",
      "source": [
        "We can look at the groups. It seems they are linearly separable from the first glance"
      ],
      "metadata": {
        "id": "PTEzB69Tb1pg"
      }
    },
    {
      "cell_type": "code",
      "source": [
        "c = ['r' if i==0 else 'b' for i in Y]\n",
        "plt.scatter([i[0] for i in X],[ i[1] for i in X], c=c)"
      ],
      "metadata": {
        "colab": {
          "base_uri": "https://localhost:8080/",
          "height": 282
        },
        "id": "PvUgg-HGayOn",
        "outputId": "e6202f51-bbb2-4bf5-9f24-262d485455fc"
      },
      "execution_count": null,
      "outputs": [
        {
          "output_type": "execute_result",
          "data": {
            "text/plain": [
              "<matplotlib.collections.PathCollection at 0x7f63f2097990>"
            ]
          },
          "metadata": {},
          "execution_count": 144
        },
        {
          "output_type": "display_data",
          "data": {
            "text/plain": [
              "<Figure size 432x288 with 1 Axes>"
            ],
            "image/png": "[encoded data removed]"
          },
          "metadata": {
            "needs_background": "light"
          }
        }
      ]
    },
    {
      "cell_type": "markdown",
      "source": [
        "Now tutorial question wishes to find centroids of two classes.\n",
        "\n",
        "Define a simple functiont to calculate sq distance from source"
      ],
      "metadata": {
        "id": "UoomEbK6emzA"
      }
    },
    {
      "cell_type": "code",
      "source": [
        "def sq_dist(source, target):\n",
        "  diff = np.array(source) - np.array(target)\n",
        "  sum=0\n",
        "  for i in diff:\n",
        "    sum=sum+i*i\n",
        "  \n",
        "  return sum\n"
      ],
      "metadata": {
        "id": "cjE8i9XdctQX"
      },
      "execution_count": null,
      "outputs": []
    },
    {
      "cell_type": "markdown",
      "source": [
        "Define a cost function (total sq distance from source)"
      ],
      "metadata": {
        "id": "iCEP5eIxexao"
      }
    },
    {
      "cell_type": "code",
      "source": [
        "def cost_func(input,init_centroid):\n",
        "  c = init_centroid\n",
        "  total_dist=0\n",
        "  for i in input:\n",
        "    total_dist=total_dist+sq_dist(c,i)\n",
        "\n",
        "  return total_dist\n",
        "\n",
        "\n",
        "  "
      ],
      "metadata": {
        "id": "9FovQ1iochxI"
      },
      "execution_count": null,
      "outputs": []
    },
    {
      "cell_type": "markdown",
      "source": [
        "To minimise it, we require:\n",
        "\n",
        "x_c→x_c+sum(x_i-x_c)*alpha\n",
        "\n",
        "y_c→y_c+sum(y_i-y_c)*alpha"
      ],
      "metadata": {
        "id": "1Um3vaCwe_Hg"
      }
    },
    {
      "cell_type": "code",
      "source": [
        "def step(c,input,alpha):\n",
        "  c[0]=c[0]+sum([i[0]-c[0] for i in input])*alpha\n",
        "  c[1]=c[1]+sum([i[1]-c[1] for i in input])*alpha\n",
        "  return c"
      ],
      "metadata": {
        "id": "5VSEzsFQfWwo"
      },
      "execution_count": null,
      "outputs": []
    },
    {
      "cell_type": "markdown",
      "source": [
        "Hyper-parameter definition"
      ],
      "metadata": {
        "id": "08EUWLRbjfgY"
      }
    },
    {
      "cell_type": "code",
      "source": [
        "EPOCH = 100\n",
        "alpha = 0.01\n",
        "init_c=[0,0]\n"
      ],
      "metadata": {
        "id": "5qz7y9Ghf_gI"
      },
      "execution_count": null,
      "outputs": []
    },
    {
      "cell_type": "markdown",
      "source": [
        "Centroid of first class"
      ],
      "metadata": {
        "id": "p1Hyd5hqjCPQ"
      }
    },
    {
      "cell_type": "code",
      "source": [
        "for i in range(EPOCH):\n",
        "  class_1=X[0:4]\n",
        "  new_c = step(init_c, class_1, alpha)\n",
        "  if i%10 == 0:\n",
        "    print(\"Epoch No.\",str(i),\" Cost: \", cost_func(class_1,new_c))\n",
        "\n",
        "print(\"Centroid: \", new_c)"
      ],
      "metadata": {
        "colab": {
          "base_uri": "https://localhost:8080/"
        },
        "id": "J3FQ3znSgChI",
        "outputId": "675dccf4-2049-4352-a485-93d378b5b442"
      },
      "execution_count": null,
      "outputs": [
        {
          "output_type": "stream",
          "name": "stdout",
          "text": [
            "Epoch No. 0  Cost:  128.2\n",
            "Epoch No. 10  Cost:  63.918680382907766\n",
            "Epoch No. 20  Cost:  35.5061806591729\n",
            "Epoch No. 30  Cost:  22.947786628684067\n",
            "Epoch No. 40  Cost:  17.39694590159138\n",
            "Epoch No. 50  Cost:  14.943460790139474\n",
            "Epoch No. 60  Cost:  13.859014399390842\n",
            "Epoch No. 70  Cost:  13.37968645526821\n",
            "Epoch No. 80  Cost:  13.167822337339594\n",
            "Epoch No. 90  Cost:  13.074177881563433\n",
            "Centroid:  [4.915648403205752, 2.457824201602876]\n"
          ]
        }
      ]
    },
    {
      "cell_type": "markdown",
      "source": [
        "Centroid of second class"
      ],
      "metadata": {
        "id": "_69T-bpjjF4A"
      }
    },
    {
      "cell_type": "code",
      "source": [
        "for i in range(EPOCH):\n",
        "  class_1=X[4:]\n",
        "  new_c = step(init_c, class_1, alpha)\n",
        "  if i%10 == 0:\n",
        "    print(\"Epoch No.\",str(i),\" Cost: \", cost_func(class_1,new_c))\n",
        "\n",
        "print(\"Centroid: \", new_c)"
      ],
      "metadata": {
        "colab": {
          "base_uri": "https://localhost:8080/"
        },
        "id": "rYyh4Ys-i6v4",
        "outputId": "b1c791c6-f076-4f07-c7fb-c89c3ef38467"
      },
      "execution_count": null,
      "outputs": [
        {
          "output_type": "stream",
          "name": "stdout",
          "text": [
            "Epoch No. 0  Cost:  197.0034040446452\n",
            "Epoch No. 10  Cost:  99.90992809103516\n",
            "Epoch No. 20  Cost:  56.99437540572778\n",
            "Epoch No. 30  Cost:  38.02559666754196\n",
            "Epoch No. 40  Cost:  29.641350297543866\n",
            "Epoch No. 50  Cost:  25.935492995760118\n",
            "Epoch No. 60  Cost:  24.297495048761924\n",
            "Epoch No. 70  Cost:  23.573495969499252\n",
            "Epoch No. 80  Cost:  23.253486614338698\n",
            "Epoch No. 90  Cost:  23.11204170049356\n",
            "Centroid:  [-1.3917659625438252, 0.04146427920895018]\n"
          ]
        }
      ]
    },
    {
      "cell_type": "markdown",
      "source": [
        "Cool, now we find the gradient of the line that passes through the centroid"
      ],
      "metadata": {
        "id": "linfgT9EjxiY"
      }
    },
    {
      "cell_type": "code",
      "source": [
        "c1=[5,2.5]\n",
        "c2=[-1.5,0]\n",
        "\n",
        "a=(c1[1]-c2[1])/(c1[0]-c2[0])\n",
        "print(\"gradient: \", a)"
      ],
      "metadata": {
        "id": "PiRKafOUjTEJ",
        "colab": {
          "base_uri": "https://localhost:8080/"
        },
        "outputId": "13a08f6f-aadd-434f-fadc-d00f39d14bce"
      },
      "execution_count": null,
      "outputs": [
        {
          "output_type": "stream",
          "name": "stdout",
          "text": [
            "gradient:  0.38461538461538464\n"
          ]
        }
      ]
    },
    {
      "cell_type": "markdown",
      "source": [
        "... And the line perpandicular to it (while passing through the midddle point)\n"
      ],
      "metadata": {
        "id": "BJ_YNJxMXcLT"
      }
    },
    {
      "cell_type": "code",
      "source": [
        "mid=[(c1[0]+c2[0])/2,(c1[1]+c2[1])/2]\n",
        "print(\"Mid-point: \",mid)\n",
        "a_prime=-1/a\n",
        "b_prime=mid[1]-mid[0]*a_prime\n",
        "print(\"y=\",a_prime, \"x+ \",b_prime)\n"
      ],
      "metadata": {
        "colab": {
          "base_uri": "https://localhost:8080/"
        },
        "id": "q1FpGm_mXgqS",
        "outputId": "30841f15-cdb2-4ab0-efb9-839fcb614417"
      },
      "execution_count": null,
      "outputs": [
        {
          "output_type": "stream",
          "name": "stdout",
          "text": [
            "Mid-point:  [1.75, 1.25]\n",
            "y= -2.5999999999999996 x+  5.799999999999999\n"
          ]
        }
      ]
    },
    {
      "cell_type": "markdown",
      "source": [
        "Classification using a perceptron\n",
        "\n",
        "First, the data:"
      ],
      "metadata": {
        "id": "SmBKtl5B6rID"
      }
    },
    {
      "cell_type": "code",
      "source": [
        "x_train = np.array([[-1.75, 0.34, 1.15],\n",
        "     [-0.25, 0.98, 0.51],\n",
        "     [0.22, -1.07, -0.19],\n",
        "     [0.26, -0.46, 0.44],\n",
        "     [-0.58, 0.82, 0.67],\n",
        "     [-0.1, -0.53, 1.03],\n",
        "     [-0.44, -1.12, 1.62],\n",
        "     [1.54, -0.25, -0.84],\n",
        "     [0.18, 0.94, 0.73],\n",
        "     [1.36, -0.33, 0.06]])\n",
        "y_train = np.array([1, 0, 1, 1, 0, 0, 1, 1, 0, 0])"
      ],
      "metadata": {
        "id": "i-I8rjzffDUq"
      },
      "execution_count": null,
      "outputs": []
    },
    {
      "cell_type": "code",
      "source": [
        "class Neuron:\n",
        "  def __init__(self,init_w,init_b):\n",
        "    self.w=init_w\n",
        "    self.b=init_b\n",
        "\n",
        "  def compute(self,input):\n",
        "    y=tf.tensordot(input,self.w,axes=1)+self.b\n",
        "    y=1/(math.e**(-1*y)+1)\n",
        "    return y\n",
        "\n",
        "  def set_w(self,w):\n",
        "    self.w=w\n",
        "\n",
        "  def set_b(self,b):\n",
        "    self.b=b\n"
      ],
      "metadata": {
        "id": "0oRZM85maS3A"
      },
      "execution_count": null,
      "outputs": []
    },
    {
      "cell_type": "code",
      "source": [
        "def getclass(y):\n",
        "  if y<=0.5:\n",
        "    return 0\n",
        "  else:\n",
        "    return 1"
      ],
      "metadata": {
        "id": "AbjC-oE78n4q"
      },
      "execution_count": null,
      "outputs": []
    },
    {
      "cell_type": "code",
      "source": [
        "def cost(output,target):\n",
        "  return -(target*math.log(output)+(1-target)*math.log(1-output))"
      ],
      "metadata": {
        "id": "y9aEBKEUjnmD"
      },
      "execution_count": null,
      "outputs": []
    },
    {
      "cell_type": "code",
      "source": [
        "def loss(neuron, alpha, input, target):\n",
        "  y = neuron.compute(input)\n",
        "\n",
        "  r1=tf.tensordot(tf.transpose(input),(target-y),axes=1)\n",
        "  r2=tf.tensordot(tf.transpose(y),(tf.fill(y.shape,1.0)-y),axes=1)\n",
        "  w = neuron.w+tf.reshape(tf.tensordot(r1,r2,axes=0),neuron.w.shape)\n",
        "\n",
        "  r1=tf.tensordot(tf.transpose(y),(tf.fill(y.shape,1.0)-y),axes=1)\n",
        "  b = neuron.b+tf.reshape(tf.tensordot(alpha*(target-y),r1,axes=0),neuron.b.shape)\n",
        "  \n",
        "  neuron.set_w(w)\n",
        "  neuron.set_b(b)\n",
        "\n",
        "  output = neuron.compute(input)\n",
        "\n",
        "  sum=0\n",
        "  for i in range(len(output)):\n",
        "    sum=sum+cost(output[i],target[i])\n",
        "\n",
        "  return sum"
      ],
      "metadata": {
        "id": "ON5cg0Uy78YG"
      },
      "execution_count": null,
      "outputs": []
    },
    {
      "cell_type": "markdown",
      "source": [
        "Define hyper-parameter"
      ],
      "metadata": {
        "id": "cIJuCE-nUVia"
      }
    },
    {
      "cell_type": "code",
      "source": [
        "EPOCH = 1000\n",
        "alpha = 0.4\n",
        "init_b=tf.convert_to_tensor([0.77,0.02,0.63],tf.float32)\n",
        "init_c=tf.convert_to_tensor([0.0])"
      ],
      "metadata": {
        "id": "dNOtOf2fVppT"
      },
      "execution_count": null,
      "outputs": []
    },
    {
      "cell_type": "code",
      "source": [
        "N=Neuron(init_b,init_c)\n",
        "SGDLoss=[]\n",
        "for e in range(EPOCH):\n",
        "  i = random.randint(0,7)\n",
        "  input = tf.reshape(tf.convert_to_tensor(x_train[i],tf.float32),(1,3))\n",
        "  target= tf.reshape(tf.convert_to_tensor(y_train[i],tf.float32),(1,))\n",
        "  SGDLoss.append(loss(N,alpha,input,target))\n",
        "  if e%100==0:\n",
        "    print(\"Epoch No.\",e,\"Loss: \",SGDLoss[len(SGDLoss)-1])"
      ],
      "metadata": {
        "colab": {
          "base_uri": "https://localhost:8080/"
        },
        "id": "so6eu4DzVvRq",
        "outputId": "9f97ed39-5e2b-4be5-8ddb-1811fc6779ed"
      },
      "execution_count": null,
      "outputs": [
        {
          "output_type": "stream",
          "name": "stdout",
          "text": [
            "Epoch No. 0 Loss:  tf.Tensor(0.45630705, shape=(), dtype=float32)\n",
            "Epoch No. 100 Loss:  tf.Tensor(0.26122493, shape=(), dtype=float32)\n",
            "Epoch No. 200 Loss:  tf.Tensor(0.21406381, shape=(), dtype=float32)\n",
            "Epoch No. 300 Loss:  tf.Tensor(0.24214032, shape=(), dtype=float32)\n",
            "Epoch No. 400 Loss:  tf.Tensor(0.63336706, shape=(), dtype=float32)\n",
            "Epoch No. 500 Loss:  tf.Tensor(0.282074, shape=(), dtype=float32)\n",
            "Epoch No. 600 Loss:  tf.Tensor(0.29670477, shape=(), dtype=float32)\n",
            "Epoch No. 700 Loss:  tf.Tensor(0.32976943, shape=(), dtype=float32)\n",
            "Epoch No. 800 Loss:  tf.Tensor(0.1903965, shape=(), dtype=float32)\n",
            "Epoch No. 900 Loss:  tf.Tensor(0.0032023152, shape=(), dtype=float32)\n"
          ]
        }
      ]
    },
    {
      "cell_type": "code",
      "source": [
        "plt.plot([i for i in range (len(SGDLoss))],SGDLoss)\n",
        "plt.show()"
      ],
      "metadata": {
        "colab": {
          "base_uri": "https://localhost:8080/",
          "height": 265
        },
        "id": "Cym7wZ-jW4SU",
        "outputId": "9b8daa65-280c-4257-e41b-dd1a140ae0bb"
      },
      "execution_count": null,
      "outputs": [
        {
          "output_type": "display_data",
          "data": {
            "text/plain": [
              "<Figure size 432x288 with 1 Axes>"
            ],
            "image/png": "[encoded data removed]"
          },
          "metadata": {
            "needs_background": "light"
          }
        }
      ]
    },
    {
      "cell_type": "markdown",
      "source": [
        "For GD"
      ],
      "metadata": {
        "id": "a5GV7jIFW-4b"
      }
    },
    {
      "cell_type": "code",
      "source": [
        "EPOCH = 100\n",
        "alpha = 0.04\n",
        "init_b=tf.convert_to_tensor([0.77,0.02,0.63],tf.float32)\n",
        "init_c=tf.convert_to_tensor([0.0,0.0,0.0,0.0,0.0,0.0,0.0,0.0,0.0,0.0])"
      ],
      "metadata": {
        "id": "7Tzl6DFrMz-D"
      },
      "execution_count": null,
      "outputs": []
    },
    {
      "cell_type": "code",
      "source": [
        "N=Neuron(init_b,init_c)\n",
        "GDLoss=[]\n",
        "for e in range(EPOCH):\n",
        "  GDLoss.append(loss(N,alpha,tf.convert_to_tensor(x_train,tf.float32),tf.convert_to_tensor(y_train,tf.float32)))\n",
        "  if e%10==0:\n",
        "    print(\"Epoch No.\",e,\"Loss: \",GDLoss[len(GDLoss)-1])"
      ],
      "metadata": {
        "id": "JoPiRetWAWat",
        "colab": {
          "base_uri": "https://localhost:8080/"
        },
        "outputId": "71b1245c-3ebf-4489-a396-84e9c28407a7"
      },
      "execution_count": null,
      "outputs": [
        {
          "output_type": "stream",
          "name": "stdout",
          "text": [
            "Epoch No. 0 Loss:  tf.Tensor(3.9987745, shape=(), dtype=float32)\n",
            "Epoch No. 10 Loss:  tf.Tensor(3.180918, shape=(), dtype=float32)\n",
            "Epoch No. 20 Loss:  tf.Tensor(2.8743834, shape=(), dtype=float32)\n",
            "Epoch No. 30 Loss:  tf.Tensor(2.4115765, shape=(), dtype=float32)\n",
            "Epoch No. 40 Loss:  tf.Tensor(2.0337806, shape=(), dtype=float32)\n",
            "Epoch No. 50 Loss:  tf.Tensor(1.7293513, shape=(), dtype=float32)\n",
            "Epoch No. 60 Loss:  tf.Tensor(1.5308887, shape=(), dtype=float32)\n",
            "Epoch No. 70 Loss:  tf.Tensor(1.4019191, shape=(), dtype=float32)\n",
            "Epoch No. 80 Loss:  tf.Tensor(1.2967083, shape=(), dtype=float32)\n",
            "Epoch No. 90 Loss:  tf.Tensor(1.208181, shape=(), dtype=float32)\n"
          ]
        }
      ]
    },
    {
      "cell_type": "code",
      "source": [
        "plt.plot([i for i in range (len(GDLoss))],GDLoss)\n",
        "plt.show()"
      ],
      "metadata": {
        "colab": {
          "base_uri": "https://localhost:8080/",
          "height": 265
        },
        "id": "VWPZR1DRXCdy",
        "outputId": "61c304cd-26b2-435d-c884-8b9d490bd913"
      },
      "execution_count": null,
      "outputs": [
        {
          "output_type": "display_data",
          "data": {
            "text/plain": [
              "<Figure size 432x288 with 1 Axes>"
            ],
            "image/png": "[encoded data removed]"
          },
          "metadata": {
            "needs_background": "light"
          }
        }
      ]
    },
    {
      "cell_type": "code",
      "source": [
        ""
      ],
      "metadata": {
        "id": "dDni1cQuss1I"
      },
      "execution_count": null,
      "outputs": []
    }
  ]
}