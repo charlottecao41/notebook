{
  "nbformat": 4,
  "nbformat_minor": 0,
  "metadata": {
    "colab": {
      "provenance": [],
      "collapsed_sections": []
    },
    "kernelspec": {
      "name": "python3",
      "display_name": "Python 3"
    },
    "language_info": {
      "name": "python"
    }
  },
  "cells": [
    {
      "cell_type": "markdown",
      "source": [
        "Import necessary pakage"
      ],
      "metadata": {
        "id": "YHNG-cmDCg6i"
      }
    },
    {
      "cell_type": "code",
      "execution_count": 54,
      "metadata": {
        "id": "RHlYSGkJ6TCY"
      },
      "outputs": [],
      "source": [
        "import tensorflow as tf\n",
        "import numpy as np\n",
        "import random\n",
        "import matplotlib.pyplot as plt"
      ]
    },
    {
      "cell_type": "markdown",
      "source": [
        "Define a layer"
      ],
      "metadata": {
        "id": "Q5F4KvLxCk6g"
      }
    },
    {
      "cell_type": "code",
      "source": [
        "class Layer:\n",
        "  def __init__(self,init_w,init_b):\n",
        "    self.w=tf.Variable(init_w)\n",
        "    self.b=tf.Variable(init_b)\n",
        "  \n",
        "  def compute(self,x):\n",
        "    result= tf.sigmoid(tf.reshape(tf.matmul(tf.transpose(self.w),tf.reshape(x,[2,1])),[1,3])+self.b)\n",
        "    output=tf.argmax(result,axis=1)\n",
        "\n",
        "    return result,output\n"
      ],
      "metadata": {
        "id": "sUw1JcCI6v7X"
      },
      "execution_count": null,
      "outputs": []
    },
    {
      "cell_type": "markdown",
      "source": [
        "Input & output"
      ],
      "metadata": {
        "id": "pZRqXVDRCy0w"
      }
    },
    {
      "cell_type": "code",
      "source": [
        "X = np.array([[0, 4],[-1, 3],[2, 3], [-2, 2],[0, 2], [1, 2],\n",
        "              [-1, 2],[-3, 1],[-1, 1],[2, 1],[4, 1],[-2, 0],\n",
        "             [1, 0],[3, 0],[-3, -1],[-2, -1],[2, -1],[4, -1]]).astype(float)\n",
        "            \n",
        "Y = np.array([0, 0, 0, 1, 1, 0, 1, 1, 1, 2, 2, 1, 2, 2, 1, 1, 2, 2]).astype(int)\n",
        "\n",
        "Y_prime=[]\n",
        "for i in Y:\n",
        "  y=[]\n",
        "  for j in range(3):\n",
        "    if i==j:\n",
        "      y.append(1)\n",
        "    else:\n",
        "      y.append(0)\n",
        "  Y_prime.append(y)\n",
        "\n",
        "Y_prime=np.array(Y_prime).astype(float)"
      ],
      "metadata": {
        "id": "k34mWlURCwIo"
      },
      "execution_count": null,
      "outputs": []
    },
    {
      "cell_type": "code",
      "source": [
        "print(Y_prime)"
      ],
      "metadata": {
        "colab": {
          "base_uri": "https://localhost:8080/"
        },
        "id": "fo87h8oCQ8uC",
        "outputId": "6b119dbd-195e-40a4-f522-c5a4ca5772a1"
      },
      "execution_count": null,
      "outputs": [
        {
          "output_type": "stream",
          "name": "stdout",
          "text": [
            "[[1. 0. 0.]\n",
            " [1. 0. 0.]\n",
            " [1. 0. 0.]\n",
            " [0. 1. 0.]\n",
            " [0. 1. 0.]\n",
            " [1. 0. 0.]\n",
            " [0. 1. 0.]\n",
            " [0. 1. 0.]\n",
            " [0. 1. 0.]\n",
            " [0. 0. 1.]\n",
            " [0. 0. 1.]\n",
            " [0. 1. 0.]\n",
            " [0. 0. 1.]\n",
            " [0. 0. 1.]\n",
            " [0. 1. 0.]\n",
            " [0. 1. 0.]\n",
            " [0. 0. 1.]\n",
            " [0. 0. 1.]]\n"
          ]
        }
      ]
    },
    {
      "cell_type": "code",
      "source": [
        "c=[]\n",
        "for i in Y:\n",
        "  if i==0:\n",
        "    c.append('r')\n",
        "\n",
        "  elif i==1:\n",
        "    c.append('b')\n",
        "\n",
        "  else:\n",
        "    c.append('g')"
      ],
      "metadata": {
        "id": "7lmoRQPn2PMS"
      },
      "execution_count": null,
      "outputs": []
    },
    {
      "cell_type": "code",
      "source": [
        "plt.scatter([i[0] for i in X],[ i[1] for i in X], c=c)"
      ],
      "metadata": {
        "colab": {
          "base_uri": "https://localhost:8080/",
          "height": 282
        },
        "id": "oh6sk9NL1yEa",
        "outputId": "65ab4d48-6ef6-4f5c-e4dd-e3c39b878a39"
      },
      "execution_count": null,
      "outputs": [
        {
          "output_type": "execute_result",
          "data": {
            "text/plain": [
              "<matplotlib.collections.PathCollection at 0x7fc3b3010f10>"
            ]
          },
          "metadata": {},
          "execution_count": 24
        },
        {
          "output_type": "display_data",
          "data": {
            "text/plain": [
              "<Figure size 432x288 with 1 Axes>"
            ],
            "image/png": "[encoded data removed]"
          },
          "metadata": {
            "needs_background": "light"
          }
        }
      ]
    },
    {
      "cell_type": "markdown",
      "source": [],
      "metadata": {
        "id": "GStnRvMBYnzP"
      }
    },
    {
      "cell_type": "markdown",
      "source": [
        "Use given initial w & b"
      ],
      "metadata": {
        "id": "I_Quvk_zCnlA"
      }
    },
    {
      "cell_type": "code",
      "source": [
        "w = np.array([[0.88, 0.08, -0.34],[0.68, -0.39, -0.19]]).astype(float)\n",
        "b = np.array([0.0, 0.0, 0.0]).astype(float)"
      ],
      "metadata": {
        "id": "b2QKOWz78HFQ"
      },
      "execution_count": null,
      "outputs": []
    },
    {
      "cell_type": "markdown",
      "source": [
        "Test"
      ],
      "metadata": {
        "id": "7Vb_A-msYmSM"
      }
    },
    {
      "cell_type": "code",
      "source": [
        "l=Layer(w,b)\n",
        "l.compute(X[0])"
      ],
      "metadata": {
        "colab": {
          "base_uri": "https://localhost:8080/"
        },
        "id": "ELV847FyXzWr",
        "outputId": "28ee12c7-7fd3-4a30-fe1f-766345b4278a"
      },
      "execution_count": null,
      "outputs": [
        {
          "output_type": "execute_result",
          "data": {
            "text/plain": [
              "(<tf.Tensor: shape=(1, 3), dtype=float64, numpy=array([[0.93819653, 0.17364665, 0.31864627]])>,\n",
              " <tf.Tensor: shape=(1,), dtype=int64, numpy=array([0])>)"
            ]
          },
          "metadata": {},
          "execution_count": 6
        }
      ]
    },
    {
      "cell_type": "markdown",
      "source": [
        "Now write the error and loss"
      ],
      "metadata": {
        "id": "391dh9CIFE9Y"
      }
    },
    {
      "cell_type": "code",
      "source": [
        "def error(output,target):\n",
        "  output=output.numpy()\n",
        "  sum=0\n",
        "  for i in range(len(target)):\n",
        "    if target[i]!=output[i]:\n",
        "      sum=sum+1\n",
        "  return sum"
      ],
      "metadata": {
        "id": "1ve64K4PFL0o"
      },
      "execution_count": null,
      "outputs": []
    },
    {
      "cell_type": "code",
      "source": [
        "def loss(raw_output,target):\n",
        "  return tf.reduce_sum(tf.math.log(raw_output)*target)"
      ],
      "metadata": {
        "id": "IVMBoCO5IKeC"
      },
      "execution_count": null,
      "outputs": []
    },
    {
      "cell_type": "code",
      "source": [
        "def train(layer,input,target,alpha):\n",
        "  raw_output,output=layer.compute(input)\n",
        "  delta_j=-(target-raw_output)\n",
        "  layer.w=layer.w-alpha*tf.matmul(tf.reshape(input,[2,1]),tf.reshape(tf.transpose(delta_j),[1,3]))\n",
        "  layer.b=layer.b-tf.reshape(alpha*delta_j,[3])\n",
        "\n",
        "  return layer"
      ],
      "metadata": {
        "id": "GXU_-qKzRPRT"
      },
      "execution_count": null,
      "outputs": []
    },
    {
      "cell_type": "markdown",
      "source": [
        "Define hyperparameters"
      ],
      "metadata": {
        "id": "EeVsQCsu1Lqv"
      }
    },
    {
      "cell_type": "code",
      "source": [
        "EPOCH=1000\n",
        "alpha=0.05\n"
      ],
      "metadata": {
        "id": "uvpCtFmaSbjD"
      },
      "execution_count": null,
      "outputs": []
    },
    {
      "cell_type": "code",
      "source": [
        "l=Layer(w,b)\n",
        "cost=[]\n",
        "for i in range(EPOCH):\n",
        "  random_sample=random.randint(0,17)\n",
        "  l=train(l,X[random_sample],Y_prime[random_sample],alpha)\n",
        "  raw_output,output=l.compute(X[random_sample])\n",
        "  cost.append(loss(raw_output,Y_prime[random_sample]).numpy())\n",
        "  if i%100==0:\n",
        "    raw_output,output=l.compute(X[random_sample])\n",
        "    print(\"EPOCH: \", i, end=\",\")\n",
        "    print(\"loss: \", loss(raw_output,Y_prime[random_sample]).numpy())\n",
        "    #print(\"Error: \", error(output,Y[random_sample]).numpy()[0])"
      ],
      "metadata": {
        "colab": {
          "base_uri": "https://localhost:8080/"
        },
        "id": "0DqP9884SeZL",
        "outputId": "58ef8ace-afc8-44ac-c122-c018f6bd1d2b"
      },
      "execution_count": null,
      "outputs": [
        {
          "output_type": "stream",
          "name": "stdout",
          "text": [
            "EPOCH:  0,loss:  -1.176335180619264\n",
            "EPOCH:  100,loss:  -0.06002543058758279\n",
            "EPOCH:  200,loss:  -0.03512668620213586\n",
            "EPOCH:  300,loss:  -0.01478197662622389\n",
            "EPOCH:  400,loss:  -0.01063997656095017\n",
            "EPOCH:  500,loss:  -0.2407690981134422\n",
            "EPOCH:  600,loss:  -0.2810113537773776\n",
            "EPOCH:  700,loss:  -0.004144366523531293\n",
            "EPOCH:  800,loss:  -2.786326086956681e-05\n",
            "EPOCH:  900,loss:  -0.6642540625368936\n"
          ]
        }
      ]
    },
    {
      "cell_type": "code",
      "source": [
        "plt.plot([i for i in range(EPOCH)],cost)"
      ],
      "metadata": {
        "colab": {
          "base_uri": "https://localhost:8080/",
          "height": 282
        },
        "id": "m430Yjo_aTOt",
        "outputId": "2f661834-919b-418f-8cb1-1a8fb1e8cf19"
      },
      "execution_count": null,
      "outputs": [
        {
          "output_type": "execute_result",
          "data": {
            "text/plain": [
              "[<matplotlib.lines.Line2D at 0x7fc3ba1fd510>]"
            ]
          },
          "metadata": {},
          "execution_count": 15
        },
        {
          "output_type": "display_data",
          "data": {
            "text/plain": [
              "<Figure size 432x288 with 1 Axes>"
            ],
            "image/png": "[encoded data removed]"
          },
          "metadata": {
            "needs_background": "light"
          }
        }
      ]
    },
    {
      "cell_type": "markdown",
      "source": [
        "So it is pretty unsteable using SGD.\n",
        "However, if we use GD..."
      ],
      "metadata": {
        "id": "f3t798G_ax87"
      }
    },
    {
      "cell_type": "code",
      "source": [
        "class Sigmoid_Layer:\n",
        "  def __init__(self,init_w,init_b):\n",
        "    self.w=tf.Variable(init_w)\n",
        "    self.b=tf.Variable(init_b)\n",
        "  \n",
        "  def compute(self,x):\n",
        "    result= tf.sigmoid(tf.matmul(x,self.w)+self.b) #w: 2*3, so x must be in some shape of n*2\n",
        "    output=tf.argmax(result,axis=1)\n",
        "\n",
        "    return result,output #result: n*3, output: n"
      ],
      "metadata": {
        "id": "0mE4bnjba5lT"
      },
      "execution_count": null,
      "outputs": []
    },
    {
      "cell_type": "markdown",
      "source": [
        "Test"
      ],
      "metadata": {
        "id": "xI9MVaEV1ib6"
      }
    },
    {
      "cell_type": "code",
      "source": [
        "sl=Sigmoid_Layer(w,b)\n",
        "sl.compute(X)"
      ],
      "metadata": {
        "colab": {
          "base_uri": "https://localhost:8080/"
        },
        "id": "IDTlshOabU0r",
        "outputId": "2b363a7d-050c-4c6f-f028-bb9a98efc1e4"
      },
      "execution_count": null,
      "outputs": [
        {
          "output_type": "execute_result",
          "data": {
            "text/plain": [
              "(<tf.Tensor: shape=(18, 3), dtype=float64, numpy=\n",
              " array([[0.93819653, 0.17364665, 0.31864627],\n",
              "        [0.76133271, 0.22270014, 0.44275215],\n",
              "        [0.97811873, 0.26697985, 0.22270014],\n",
              "        [0.40131234, 0.28090034, 0.57444252],\n",
              "        [0.7957597 , 0.31431989, 0.4061269 ],\n",
              "        [0.90378446, 0.33181223, 0.32739298],\n",
              "        [0.61774787, 0.29733935, 0.49000133],\n",
              "        [0.12346705, 0.34751054, 0.69635493],\n",
              "        [0.450166  , 0.38461624, 0.53742985],\n",
              "        [0.91982709, 0.44275215, 0.2952543 ],\n",
              "        [0.98522597, 0.48250714, 0.17508627],\n",
              "        [0.14679034, 0.46008512, 0.6637387 ],\n",
              "        [0.70682222, 0.51998934, 0.41580948],\n",
              "        [0.93339196, 0.55971365, 0.2650274 ],\n",
              "        [0.03489141, 0.53742985, 0.77029895],\n",
              "        [0.08017291, 0.55724785, 0.7047457 ],\n",
              "        [0.74649398, 0.63413559, 0.37989357],\n",
              "        [0.94479946, 0.67040116, 0.23685498]])>,\n",
              " <tf.Tensor: shape=(18,), dtype=int64, numpy=array([0, 0, 0, 2, 0, 0, 0, 2, 2, 0, 0, 2, 0, 0, 2, 2, 0, 0])>)"
            ]
          },
          "metadata": {},
          "execution_count": 17
        }
      ]
    },
    {
      "cell_type": "code",
      "source": [
        "\n",
        "def train_batch(layer,input,target,alpha):\n",
        "  raw_output,output=layer.compute(input)\n",
        "  delta_j=-(target-raw_output) #n*3\n",
        "  layer.w=layer.w-alpha*tf.matmul(tf.transpose(input),delta_j) #2*n, n*3 ->2*3\n",
        "  layer.b=layer.b-tf.reduce_sum(delta_j,axis=0)\n",
        "  return layer"
      ],
      "metadata": {
        "id": "GZv92as9b18r"
      },
      "execution_count": null,
      "outputs": []
    },
    {
      "cell_type": "code",
      "source": [
        "l=Sigmoid_Layer(w,b)\n",
        "cost=[]\n",
        "for i in range(EPOCH):  \n",
        "  l=train_batch(l,X,Y_prime,alpha)\n",
        "  raw_output,output=l.compute(X)\n",
        "  cost.append(loss(raw_output,Y_prime).numpy())\n",
        "  if i%100==0:\n",
        "    raw_output,output=l.compute(X)\n",
        "    print(\"EPOCH: \", i, end=\",\")\n",
        "    print(\"loss: \", loss(raw_output,Y_prime).numpy())\n",
        "    #print(\"Error: \", error(output,Y[random_sample]).numpy()[0])"
      ],
      "metadata": {
        "colab": {
          "base_uri": "https://localhost:8080/"
        },
        "id": "MYzzE3Ymci1M",
        "outputId": "8dde2936-9b55-4ffe-cabb-4abc4b8925be"
      },
      "execution_count": null,
      "outputs": [
        {
          "output_type": "stream",
          "name": "stdout",
          "text": [
            "EPOCH:  0,loss:  -29.7945708617764\n",
            "EPOCH:  100,loss:  -2.644285827338809\n",
            "EPOCH:  200,loss:  -2.4175378787940023\n",
            "EPOCH:  300,loss:  -2.301876470143811\n",
            "EPOCH:  400,loss:  -2.224795699714709\n",
            "EPOCH:  500,loss:  -2.1675448924721965\n",
            "EPOCH:  600,loss:  -2.122459225188302\n",
            "EPOCH:  700,loss:  -2.0855940577963064\n",
            "EPOCH:  800,loss:  -2.0546334461652407\n",
            "EPOCH:  900,loss:  -2.0281004889262344\n"
          ]
        }
      ]
    },
    {
      "cell_type": "code",
      "source": [
        "plt.plot([i for i in range(EPOCH)],cost)"
      ],
      "metadata": {
        "colab": {
          "base_uri": "https://localhost:8080/",
          "height": 282
        },
        "id": "EvRt4ZqifqHE",
        "outputId": "f7d842d0-bd1f-4a94-d22e-586b5006bf78"
      },
      "execution_count": null,
      "outputs": [
        {
          "output_type": "execute_result",
          "data": {
            "text/plain": [
              "[<matplotlib.lines.Line2D at 0x7fc3b309f650>]"
            ]
          },
          "metadata": {},
          "execution_count": 21
        },
        {
          "output_type": "display_data",
          "data": {
            "text/plain": [
              "<Figure size 432x288 with 1 Axes>"
            ],
            "image/png": "[encoded data removed]"
          },
          "metadata": {
            "needs_background": "light"
          }
        }
      ]
    },
    {
      "cell_type": "markdown",
      "source": [
        "  Take a lot at the final w and b"
      ],
      "metadata": {
        "id": "oaX6rVli1u27"
      }
    },
    {
      "cell_type": "code",
      "source": [
        "print(l.w,l.b)"
      ],
      "metadata": {
        "colab": {
          "base_uri": "https://localhost:8080/"
        },
        "id": "G-QnV33GfrM8",
        "outputId": "98c6ea85-f27c-48da-b3e8-8e985614d106"
      },
      "execution_count": null,
      "outputs": [
        {
          "output_type": "stream",
          "name": "stdout",
          "text": [
            "tf.Tensor(\n",
            "[[ 2.04861466 -2.90572207  4.86901028]\n",
            " [ 9.23768948 -1.41642417 -4.80822146]], shape=(2, 3), dtype=float64) tf.Tensor([-19.79540207   1.73191955  -0.267624  ], shape=(3,), dtype=float64)\n"
          ]
        }
      ]
    },
    {
      "cell_type": "markdown",
      "source": [
        "For another question"
      ],
      "metadata": {
        "id": "cN1-GhKEYpbu"
      }
    },
    {
      "cell_type": "code",
      "source": [
        "# data\n",
        "X = np.array([[0.50, 0.23],[0.20, 0.76], [0.17, 0.09], [0.69, 0.95],\n",
        "     [0.00, 0.51], [0.81, 0.61], [0.72, 0.29], [0.92, 0.72]]).astype('float64')\n",
        "Y = np.array([[0.16, 0.74], [0.49, 0.97], [0.01, 0.26], [1.19, 1.70],\n",
        "     [0.13, 0.52], [0.77, 1.48], [0.40, 1.04], [1.14, 1.70]]).astype('float64')\n",
        "\n",
        "# initialize weights and bias\n",
        "w = [[1.24, 0.11], [-0.48, 0.97] ].astype('float64')\n",
        "b = [0., 0.].astype('float64')"
      ],
      "metadata": {
        "id": "4iW7bpzKYrLX"
      },
      "execution_count": 3,
      "outputs": []
    },
    {
      "cell_type": "markdown",
      "source": [
        "Define a perceptron"
      ],
      "metadata": {
        "id": "eIv2It_jZlZw"
      }
    },
    {
      "cell_type": "code",
      "source": [
        "class Perceptron_Layer:\n",
        "  def __init__(self,init_w,init_b,u,v):\n",
        "      self.w=tf.Variable(init_w,dtype='float64')\n",
        "      self.b=tf.Variable(init_b,dtype='float64')\n",
        "      self.u=u\n",
        "      self.v=v\n",
        "  \n",
        "  def compute(self,x):\n",
        "    result= tf.sigmoid(tf.matmul(x,self.w)+self.b) #n*2, 2*2\n",
        "    return self.u*result+self.v\n"
      ],
      "metadata": {
        "id": "Q-h_by1DYuYv"
      },
      "execution_count": 46,
      "outputs": []
    },
    {
      "cell_type": "markdown",
      "source": [
        "Test"
      ],
      "metadata": {
        "id": "1aLqDdCUZiYq"
      }
    },
    {
      "cell_type": "code",
      "source": [
        "p=Perceptron_Layer(w,b,1,0)\n",
        "p.compute(X)"
      ],
      "metadata": {
        "colab": {
          "base_uri": "https://localhost:8080/"
        },
        "id": "25Q2JErRZRP4",
        "outputId": "8836a093-37f2-46a7-ffd0-ad662410bc07"
      },
      "execution_count": 47,
      "outputs": [
        {
          "output_type": "execute_result",
          "data": {
            "text/plain": [
              "<tf.Tensor: shape=(8, 2), dtype=float64, numpy=\n",
              "array([[0.6247127 , 0.56908035],\n",
              "       [0.47083315, 0.68118002],\n",
              "       [0.54180219, 0.52647522],\n",
              "       [0.59859155, 0.73054708],\n",
              "       [0.43910381, 0.62121301],\n",
              "       [0.6707546 , 0.66391723],\n",
              "       [0.67996261, 0.58916146],\n",
              "       [0.68894678, 0.68988891]])>"
            ]
          },
          "metadata": {},
          "execution_count": 47
        }
      ]
    },
    {
      "cell_type": "markdown",
      "source": [
        "Define MSE cost and test it"
      ],
      "metadata": {
        "id": "Qs7FVzJKdkHA"
      }
    },
    {
      "cell_type": "code",
      "source": [
        "def p_cost(output,target):\n",
        "  return tf.reduce_mean(tf.reduce_sum(tf.square(target - output), axis=1))"
      ],
      "metadata": {
        "id": "UPqDmOKyZnl_"
      },
      "execution_count": 107,
      "outputs": []
    },
    {
      "cell_type": "code",
      "source": [
        "p_cost(p.compute(X),Y)"
      ],
      "metadata": {
        "colab": {
          "base_uri": "https://localhost:8080/"
        },
        "id": "yYmc6NHHdbqt",
        "outputId": "0cf3188f-3ba0-4413-dd00-0608935fbbf0"
      },
      "execution_count": 49,
      "outputs": [
        {
          "output_type": "execute_result",
          "data": {
            "text/plain": [
              "<tf.Tensor: shape=(), dtype=float64, numpy=4.259419148881815>"
            ]
          },
          "metadata": {},
          "execution_count": 49
        }
      ]
    },
    {
      "cell_type": "markdown",
      "source": [
        "Train"
      ],
      "metadata": {
        "id": "jCqhDJKPdnLn"
      }
    },
    {
      "cell_type": "code",
      "source": [
        "X.shape"
      ],
      "metadata": {
        "colab": {
          "base_uri": "https://localhost:8080/"
        },
        "id": "UnLrH4u4j5mk",
        "outputId": "88143e20-d510-4e83-eff7-395b6354394a"
      },
      "execution_count": 64,
      "outputs": [
        {
          "output_type": "execute_result",
          "data": {
            "text/plain": [
              "(8, 2)"
            ]
          },
          "metadata": {},
          "execution_count": 64
        }
      ]
    },
    {
      "cell_type": "code",
      "source": [
        "def train(layer,input,target,alpha):\n",
        "  output=layer.compute(input)\n",
        "  delta_u=-(target-output)*(target*(1-target/layer.u))\n",
        "  delta_w=alpha*tf.matmul(tf.transpose(input),delta_u) #2*n,n*2\n",
        "  delta_b=alpha*tf.reduce_sum(delta_u, axis = 0)\n",
        "\n",
        "  layer.w.assign_sub(delta_w)\n",
        "  layer.b.assign_sub(delta_b)\n",
        "\n",
        "  return layer"
      ],
      "metadata": {
        "id": "CtcrPsUadqvI"
      },
      "execution_count": 109,
      "outputs": []
    },
    {
      "cell_type": "code",
      "source": [
        "EPOCH=1000\n",
        "alpha=0.05"
      ],
      "metadata": {
        "id": "_lV2Q2yuhpAR"
      },
      "execution_count": 110,
      "outputs": []
    },
    {
      "cell_type": "markdown",
      "source": [
        "GD"
      ],
      "metadata": {
        "id": "91U1etg0jHZh"
      }
    },
    {
      "cell_type": "code",
      "source": [
        "p=Perceptron_Layer(w,b,2,0)\n",
        "cost=[]\n",
        "for i in range(EPOCH):\n",
        "  p=train(p,X,Y,alpha)\n",
        "  output=p.compute(X)\n",
        "  cost.append(p_cost(output,Y))\n",
        "  if i%100==0:\n",
        "    print(f\"epoch: {i}, cost: {p_cost(output,Y)}\")\n",
        "\n"
      ],
      "metadata": {
        "colab": {
          "base_uri": "https://localhost:8080/"
        },
        "id": "rftWmJrgh1rA",
        "outputId": "0716e2e3-a8d2-410a-92bd-738b8b9cd644"
      },
      "execution_count": 111,
      "outputs": [
        {
          "output_type": "stream",
          "name": "stdout",
          "text": [
            "epoch: 0, cost: 0.7043803819681811\n",
            "epoch: 100, cost: 0.2402248147283384\n",
            "epoch: 200, cost: 0.14495956876454902\n",
            "epoch: 300, cost: 0.09339631663805463\n",
            "epoch: 400, cost: 0.0631645865623069\n",
            "epoch: 500, cost: 0.0443793015132906\n",
            "epoch: 600, cost: 0.03218684061179948\n",
            "epoch: 700, cost: 0.023999118477718615\n",
            "epoch: 800, cost: 0.01834684435143258\n",
            "epoch: 900, cost: 0.01435427167222637\n"
          ]
        }
      ]
    },
    {
      "cell_type": "code",
      "source": [
        "plt.plot([i for i in range(EPOCH)], cost)"
      ],
      "metadata": {
        "colab": {
          "base_uri": "https://localhost:8080/",
          "height": 282
        },
        "id": "E9WcXD-di2Aa",
        "outputId": "19c2dcac-b6e2-4533-f2f2-ddd0076ef10d"
      },
      "execution_count": 112,
      "outputs": [
        {
          "output_type": "execute_result",
          "data": {
            "text/plain": [
              "[<matplotlib.lines.Line2D at 0x7f861e481b90>]"
            ]
          },
          "metadata": {},
          "execution_count": 112
        },
        {
          "output_type": "display_data",
          "data": {
            "text/plain": [
              "<Figure size 432x288 with 1 Axes>"
            ],
            "image/png": "[encoded data removed]"
          },
          "metadata": {
            "needs_background": "light"
          }
        }
      ]
    },
    {
      "cell_type": "markdown",
      "source": [
        "SGD"
      ],
      "metadata": {
        "id": "JIZBciPzjIuZ"
      }
    },
    {
      "cell_type": "code",
      "source": [
        "p=Perceptron_Layer(w,b,2,0)\n",
        "cost=[]\n",
        "for i in range(EPOCH):\n",
        "  r=random.randint(0,X.shape[0]-1)\n",
        "  p=train(p,tf.reshape(X[r],[1,2]),tf.reshape(Y[r],[1,2]),alpha)\n",
        "  output=p.compute(tf.reshape(X[r],[1,2]))\n",
        "  cost.append(p_cost(output,tf.reshape(Y[r],[1,2])))\n",
        "  if i%100==0:\n",
        "    print(f\"epoch: {i}, cost{p_cost(output,tf.reshape(Y[r],[1,2]))}\")"
      ],
      "metadata": {
        "colab": {
          "base_uri": "https://localhost:8080/"
        },
        "id": "0peuum7ejKOx",
        "outputId": "18f1f6e4-f29d-4a88-b453-d1da55f7aecd"
      },
      "execution_count": 113,
      "outputs": [
        {
          "output_type": "stream",
          "name": "stdout",
          "text": [
            "epoch: 0, cost0.9193153754759671\n",
            "epoch: 100, cost0.19139292460788093\n",
            "epoch: 200, cost0.3346685967618608\n",
            "epoch: 300, cost0.5341255955934046\n",
            "epoch: 400, cost0.3108329882106013\n",
            "epoch: 500, cost0.477540307527366\n",
            "epoch: 600, cost0.2873049050376198\n",
            "epoch: 700, cost0.05270642332730637\n",
            "epoch: 800, cost0.029310826064534175\n",
            "epoch: 900, cost0.24728453253857896\n"
          ]
        }
      ]
    },
    {
      "cell_type": "code",
      "source": [
        "plt.plot([i for i in range(EPOCH)], cost)"
      ],
      "metadata": {
        "colab": {
          "base_uri": "https://localhost:8080/",
          "height": 282
        },
        "id": "7BhicdSElr9X",
        "outputId": "04a72613-1f8e-43c1-8cab-3cc8f5015192"
      },
      "execution_count": 114,
      "outputs": [
        {
          "output_type": "execute_result",
          "data": {
            "text/plain": [
              "[<matplotlib.lines.Line2D at 0x7f861e3f35d0>]"
            ]
          },
          "metadata": {},
          "execution_count": 114
        },
        {
          "output_type": "display_data",
          "data": {
            "text/plain": [
              "<Figure size 432x288 with 1 Axes>"
            ],
            "image/png": "[encoded data removed]"
          },
          "metadata": {
            "needs_background": "light"
          }
        }
      ]
    }
  ]
}