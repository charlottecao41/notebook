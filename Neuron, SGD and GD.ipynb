{
  "nbformat": 4,
  "nbformat_minor": 0,
  "metadata": {
    "colab": {
      "name": "Neuron, SGD and GD.ipynb",
      "provenance": [],
      "collapsed_sections": []
    },
    "kernelspec": {
      "name": "python3",
      "display_name": "Python 3"
    },
    "language_info": {
      "name": "python"
    }
  },
  "cells": [
    {
      "cell_type": "code",
      "execution_count": 106,
      "metadata": {
        "id": "7tJyZTJt2Z3v"
      },
      "outputs": [],
      "source": [
        "#Import necessary pkg\n",
        "import tensorflow as tf\n",
        "import random\n",
        "import matplotlib.pyplot as plt"
      ]
    },
    {
      "cell_type": "markdown",
      "source": [
        "First, let's define a neuron (w/o activation function).\n",
        "\n",
        "The neuron should have a weight and a bias.\n",
        "\n",
        "it computes y = X * W + b\n"
      ],
      "metadata": {
        "id": "OiNVG0433141"
      }
    },
    {
      "cell_type": "code",
      "source": [
        "class Neuron:\n",
        "  def __init__(self,init_w,init_b):\n",
        "    self.w=init_w\n",
        "    self.b=init_b\n",
        "\n",
        "  def compute(self,input):\n",
        "    y=tf.tensordot(input,self.w,axes=1)+init_b\n",
        "    return y\n",
        "\n",
        "  def set_w(self,w):\n",
        "    self.w=w\n",
        "\n",
        "  def set_b(self,b):\n",
        "    self.b=b\n",
        "\n",
        "      \n"
      ],
      "metadata": {
        "id": "ZmawBMlQ2cwf"
      },
      "execution_count": 107,
      "outputs": []
    },
    {
      "cell_type": "markdown",
      "source": [
        "This is the input and target for the whole dataset"
      ],
      "metadata": {
        "id": "Dwf31EsrIde_"
      }
    },
    {
      "cell_type": "code",
      "source": [
        "X=[[0.09,-0.44,-0.15],\n",
        "[0.69, -0.99, -0.76],\n",
        "[0.34,0.65, -0.73],\n",
        "[0.15, 0.78, -0.58],\n",
        "[-0.63, -0.78, -0.56],\n",
        "[0.96, 0.62, -0.66],\n",
        "[0.63, -0.45, -0.14],\n",
        "[0.88, 0.64, -0.33]]\n",
        "\n",
        "Y=[-2.57,-2.97,0.96,1.04,-3.21,1.05,-2.39,0.66]"
      ],
      "metadata": {
        "id": "Ap-DSs0VOp3J"
      },
      "execution_count": 108,
      "outputs": []
    },
    {
      "cell_type": "markdown",
      "source": [
        "SGD:\n",
        "\n",
        "W→W+αx(t-y)\n",
        "\n",
        "b→b+α(t-y)"
      ],
      "metadata": {
        "id": "HAycgsqgFcsQ"
      }
    },
    {
      "cell_type": "code",
      "source": [
        "def loss(neuron, alpha, input, target):\n",
        "  y = neuron.compute(input)\n",
        "\n",
        "  w = neuron.w+tf.reshape(alpha*tf.tensordot(tf.transpose(input),(target-y),axes=1),neuron.w.shape)\n",
        "  b = neuron.b+tf.reshape(alpha*(target-y),neuron.b.shape)\n",
        "  \n",
        "  neuron.set_w(w)\n",
        "  neuron.set_b(b)\n",
        "\n",
        "  diff = (neuron.compute(input)-target).numpy()\n",
        "\n",
        "  sum=0\n",
        "  for i in diff:\n",
        "    sum=sum+i*i\n",
        "\n",
        "  return sum"
      ],
      "metadata": {
        "id": "KGJO7EGGHkux"
      },
      "execution_count": 109,
      "outputs": []
    },
    {
      "cell_type": "markdown",
      "source": [
        "Define Hyperparameters:\n"
      ],
      "metadata": {
        "id": "AbrnNJ92gWoG"
      }
    },
    {
      "cell_type": "code",
      "source": [
        "alpha = 0.01\n",
        "init_w=tf.convert_to_tensor([0.77,0.02,0.63])\n",
        "init_b=tf.convert_to_tensor([0.0],tf.float32)\n",
        "EPOCH=1000"
      ],
      "metadata": {
        "id": "oirwm33qgULm"
      },
      "execution_count": 110,
      "outputs": []
    },
    {
      "cell_type": "markdown",
      "source": [
        "Training of SGD for this neuron on the dataset {X,Y}"
      ],
      "metadata": {
        "id": "s1DqoFBmJOzw"
      }
    },
    {
      "cell_type": "code",
      "source": [
        "N=Neuron(init_w,init_b)\n",
        "SGD_loss=[]\n",
        "for e in range(EPOCH):\n",
        "  i = random.randint(0,7)\n",
        "  input=tf.reshape(tf.convert_to_tensor(X[i],tf.float32),(1,3))\n",
        "  target=tf.reshape(tf.convert_to_tensor([Y[i]],tf.float32),(1,))\n",
        "  SGD_loss.append(loss(N,alpha,input,target))\n",
        "  if e%100 == 0:\n",
        "    print(\"Loss of Epoch No.\", str(e), \": \",str(SGD_loss[len(SGD_loss)-1]))\n",
        "\n",
        "fit = N.compute(tf.convert_to_tensor(X))\n",
        "print(\"Final result: \", fit)"
      ],
      "metadata": {
        "colab": {
          "base_uri": "https://localhost:8080/"
        },
        "id": "VqoYaj4HMxtx",
        "outputId": "fdda0921-abcb-4117-c975-437cdd25f031"
      },
      "execution_count": 111,
      "outputs": [
        {
          "output_type": "stream",
          "name": "stdout",
          "text": [
            "Loss of Epoch No. 0 :  0.49246925115585327\n",
            "Loss of Epoch No. 100 :  0.034831829369068146\n",
            "Loss of Epoch No. 200 :  0.08240441232919693\n",
            "Loss of Epoch No. 300 :  0.07677735388278961\n",
            "Loss of Epoch No. 400 :  0.08336010575294495\n",
            "Loss of Epoch No. 500 :  1.8431310653686523\n",
            "Loss of Epoch No. 600 :  1.6403942108154297\n",
            "Loss of Epoch No. 700 :  0.053237706422805786\n",
            "Loss of Epoch No. 800 :  1.0635879039764404\n",
            "Loss of Epoch No. 900 :  0.44711947441101074\n",
            "Final result:  tf.Tensor(\n",
            "[-1.3854927  -3.6923053   0.7573333   1.3108642  -2.8463213   0.76579493\n",
            " -1.4036285   1.2659377 ], shape=(8,), dtype=float32)\n"
          ]
        }
      ]
    },
    {
      "cell_type": "markdown",
      "source": [
        "Plot loss graph"
      ],
      "metadata": {
        "id": "rA9XeZdUWYPI"
      }
    },
    {
      "cell_type": "code",
      "source": [
        "plt.plot([i for i in range (len(SGD_loss))],SGD_loss)\n",
        "plt.show()"
      ],
      "metadata": {
        "colab": {
          "base_uri": "https://localhost:8080/",
          "height": 265
        },
        "id": "Z85ZEA02Nqwx",
        "outputId": "d00f3300-b5f6-41ee-8a3d-f9a89865c454"
      },
      "execution_count": 112,
      "outputs": [
        {
          "output_type": "display_data",
          "data": {
            "text/plain": [
              "<Figure size 432x288 with 1 Axes>"
            ],
            "image/png": "[encoded data removed]"
          },
          "metadata": {
            "needs_background": "light"
          }
        }
      ]
    },
    {
      "cell_type": "markdown",
      "source": [
        "GD:\n",
        "\n",
        "W→W+αx(t-y)\n",
        "\n",
        "b→b+α•1•(t-y)\n",
        "\n",
        "Since I programmed the loss in such a way that it can also be applied to GD, all we need to do is to modify the format of the bias."
      ],
      "metadata": {
        "id": "-lvUeT5QJX8H"
      }
    },
    {
      "cell_type": "code",
      "source": [
        "#Define hyper-parameter\n",
        "alpha = 0.01\n",
        "init_w=tf.convert_to_tensor([0.77,0.02,0.63])\n",
        "init_b=tf.convert_to_tensor([0.0,0.0,0.0,0.0,0.0,0.0,0.0,0.0],tf.float32)\n",
        "EPOCH = 100"
      ],
      "metadata": {
        "id": "JT0Dg4w5Jhgn"
      },
      "execution_count": 113,
      "outputs": []
    },
    {
      "cell_type": "code",
      "source": [
        "N=Neuron(init_w,init_b)\n",
        "\n",
        "input = tf.convert_to_tensor(X)\n",
        "target =tf.convert_to_tensor(Y)\n",
        "\n",
        "GD_loss=[]\n",
        "\n",
        "for i in range(EPOCH):\n",
        "  y = N.compute(tf.convert_to_tensor(X))\n",
        "  GD_loss.append(loss(N,alpha,input,target))\n",
        "  if i%10 == 0: #Print for every 10 epochs so it is not cluttered\n",
        "    print(\"Loss of Epoch No.\", str(i), \": \",str(GD_loss[len(GD_loss)-1]))\n",
        "  \n",
        "fit = N.compute(tf.convert_to_tensor(X))\n",
        "print(\"Final result: \", fit)"
      ],
      "metadata": {
        "colab": {
          "base_uri": "https://localhost:8080/"
        },
        "id": "h5i6JLpZJsWI",
        "outputId": "db7e0262-f44e-475e-df83-bc4142ade0f8"
      },
      "execution_count": 114,
      "outputs": [
        {
          "output_type": "stream",
          "name": "stdout",
          "text": [
            "Loss of Epoch No. 0 :  30.30452311038971\n",
            "Loss of Epoch No. 10 :  17.19684610143304\n",
            "Loss of Epoch No. 20 :  10.615725502371788\n",
            "Loss of Epoch No. 30 :  7.257799781858921\n",
            "Loss of Epoch No. 40 :  5.5217415089719\n",
            "Loss of Epoch No. 50 :  4.613725779694505\n",
            "Loss of Epoch No. 60 :  4.133337681181729\n",
            "Loss of Epoch No. 70 :  3.8759100176393986\n",
            "Loss of Epoch No. 80 :  3.7357654720544815\n",
            "Loss of Epoch No. 90 :  3.657896365970373\n",
            "Final result:  tf.Tensor(\n",
            "[-1.3725529  -3.6551137   0.74439764  1.2912881  -2.8394566   0.76578474\n",
            " -1.3800147   1.2648689 ], shape=(8,), dtype=float32)\n"
          ]
        }
      ]
    },
    {
      "cell_type": "markdown",
      "source": [
        "Plot loss graph"
      ],
      "metadata": {
        "id": "0LOn-hnmWad4"
      }
    },
    {
      "cell_type": "code",
      "source": [
        "plt.plot([i for i in range (len(GD_loss))],GD_loss)\n",
        "plt.show()"
      ],
      "metadata": {
        "colab": {
          "base_uri": "https://localhost:8080/",
          "height": 265
        },
        "id": "oIzsZwhgUu_x",
        "outputId": "444e7eec-7695-4b3f-f6b1-408651fcbcd5"
      },
      "execution_count": 115,
      "outputs": [
        {
          "output_type": "display_data",
          "data": {
            "text/plain": [
              "<Figure size 432x288 with 1 Axes>"
            ],
            "image/png": "[encoded data removed]"
          },
          "metadata": {
            "needs_background": "light"
          }
        }
      ]
    },
    {
      "cell_type": "code",
      "source": [
        ""
      ],
      "metadata": {
        "id": "RL8rJQYFX07y"
      },
      "execution_count": null,
      "outputs": []
    }
  ]
}
